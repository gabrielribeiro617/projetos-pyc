{
 "cells": [
  {
   "cell_type": "markdown",
   "metadata": {},
   "source": [
    "# Exercícios\n",
    "\n",
    "### Antes de irmos para o desafio que apresentamos na última aula (que é bem mais complexo do que um exemplo simples) vamos resolver um exercício um pouco mais simples para treinar\n",
    "\n",
    "## 1. Cálculo do Percentual e da Lista de Vendedores\n",
    "\n",
    "- Queremos criar uma function que consiga identificar os vendedores que bateram uma meta, mas além disso, consigo já me dar como resposta o cálculo do % da lista de vendedores que bateu a meta (para eu não precisar calcular manualmente depois)\n",
    "- Essa function deve receber 2 informações como parâmetro: a meta e um dicionário com os vendedores e suas vendas. E me dar 2 respostas: uma lista com o nome dos vendedores que bateram a meta e o % de vendedores que bateu a meta."
   ]
  },
  {
   "cell_type": "code",
   "metadata": {
    "ExecuteTime": {
     "end_time": "2025-06-30T22:49:15.255263Z",
     "start_time": "2025-06-30T22:49:15.252622Z"
    }
   },
   "source": [
    "meta = 10000\n",
    "vendas = {\n",
    "    'João': 15000,\n",
    "    'Julia': 27000,\n",
    "    'Marcus': 9900,\n",
    "    'Maria': 3750,\n",
    "    'Ana': 10300,\n",
    "    'Alon': 7870,\n",
    "}"
   ],
   "outputs": [],
   "execution_count": 10
  },
  {
   "cell_type": "code",
   "metadata": {
    "ExecuteTime": {
     "end_time": "2025-06-30T22:49:16.286591Z",
     "start_time": "2025-06-30T22:49:16.282562Z"
    }
   },
   "source": [
    "def bateram_meta(meta, dicionario_vendedores):\n",
    "    bateram = []\n",
    "    \n",
    "    for vendedor, vendas in dicionario_vendedores.items():\n",
    "        if vendas >= meta:\n",
    "            bateram.append(vendedor)\n",
    "    \n",
    "    perc_bateram = len(bateram) / len(dicionario_vendedores) * 100\n",
    "    \n",
    "    return perc_bateram, bateram\n"
   ],
   "outputs": [],
   "execution_count": 11
  },
  {
   "cell_type": "code",
   "metadata": {
    "ExecuteTime": {
     "end_time": "2025-06-30T22:49:31.831873Z",
     "start_time": "2025-06-30T22:49:31.828303Z"
    }
   },
   "source": [
    "p_meta, vendedores_bateram_meta = bateram_meta(meta, vendas)\n",
    "\n",
    "print(f'Percentual: {p_meta:.1f}%')\n",
    "print(f'Venderores que bateram a meta: {vendedores_bateram_meta}')\n"
   ],
   "outputs": [
    {
     "name": "stdout",
     "output_type": "stream",
     "text": [
      "Percentual: 50.0%\n",
      "Venderores que bateram a meta: ['João', 'Julia', 'Ana']\n"
     ]
    }
   ],
   "execution_count": 13
  }
 ],
 "metadata": {
  "kernelspec": {
   "display_name": "Python 3",
   "language": "python",
   "name": "python3"
  },
  "language_info": {
   "codemirror_mode": {
    "name": "ipython",
    "version": 3
   },
   "file_extension": ".py",
   "mimetype": "text/x-python",
   "name": "python",
   "nbconvert_exporter": "python",
   "pygments_lexer": "ipython3",
   "version": "3.8.3"
  }
 },
 "nbformat": 4,
 "nbformat_minor": 4
}
