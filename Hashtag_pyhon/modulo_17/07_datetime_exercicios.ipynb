{
 "cells": [
  {
   "cell_type": "markdown",
   "metadata": {},
   "source": [
    "## Oferecendo desconto para cliente com base na última compra\n",
    "\n",
    "Suponha que você está trabalhando para uma empresa que deseja rastrear a atividade do cliente. Uma métrica que eles estão interessados é o tempo que passou desde a última transação do cliente. Se for muito tempo, eles podem oferecer um desconto para o cliente. Crie um script Python que mostra quanto tempo se passou desde a última compra do cliente. Se faz mais de 30 dias, mostre uma mensagem oferecendo um desconto para o cliente."
   ]
  },
  {
   "metadata": {
    "ExecuteTime": {
     "end_time": "2025-07-11T05:43:59.857853Z",
     "start_time": "2025-07-11T05:43:59.852842Z"
    }
   },
   "cell_type": "code",
   "source": [
    "from datetime import datetime\n",
    "import locale\n",
    "\n",
    "locale.setlocale(locale.LC_TIME, 'pt_BR.UTF-8')\n",
    "\n",
    "data_atual = datetime.now()\n",
    "data_compra_cliente = datetime(2025, 6, 10)\n",
    "\n",
    "variacao = data_atual - data_compra_cliente\n",
    "\n",
    "print(f'Dias sem comprar: {variacao.days}')\n",
    "\n",
    "if variacao.days > 30:\n",
    "    print('-> Você recebeu um desconto de R$ 20 para a sua próxima compra!')\n",
    "\n"
   ],
   "outputs": [
    {
     "name": "stdout",
     "output_type": "stream",
     "text": [
      "Dias sem comprar: 31\n",
      "-> Você recebeu um desconto de R$ 20 para a sua próxima compra!\n"
     ]
    }
   ],
   "execution_count": 2
  },
  {
   "cell_type": "markdown",
   "metadata": {},
   "source": [
    "## Data e hora em diferentes fusos horários\n",
    "\n",
    "Uma empresa tem escritórios em São Paulo, Nova York e Tóquio. Crie um script Python que mostra a data e hora atuais nesses três fusos horários. Exiba, também, se estes escritórios estão abertos ou fechados (9h às 17h).\n"
   ]
  },
  {
   "metadata": {
    "ExecuteTime": {
     "end_time": "2025-07-11T06:23:41.159533Z",
     "start_time": "2025-07-11T06:23:41.152821Z"
    }
   },
   "cell_type": "code",
   "source": [
    "from datetime import datetime\n",
    "import pytz\n",
    "import locale\n",
    "\n",
    "def verifica_aberto(data_hora):\n",
    "    if 9 <= data_hora.hour <= 17:\n",
    "        return 'Aberto'\n",
    "    else:\n",
    "        return 'Fechado'\n",
    "\n",
    "\n",
    "try:\n",
    "    locale.setlocale(locale.LC_TIME, 'pt_BR.UTF-8')\n",
    "except ValueError:\n",
    "    try:\n",
    "        locale.setlocale(locale.LC_TIME, 'pt_BR')\n",
    "    except ValueError:\n",
    "        print('Locale pt_BR não disponível no sistema.')\n",
    "\n",
    "data_hora_utc = datetime.now(pytz.utc)\n",
    "\n",
    "fuso_horario_sp = pytz.timezone('America/Sao_Paulo')\n",
    "fuso_horario_ny = pytz.timezone('America/New_York')\n",
    "fuso_horario_tk = pytz.timezone('Asia/Tokyo')\n",
    "\n",
    "data_hora_sp = data_hora_utc.astimezone(fuso_horario_sp)\n",
    "data_hora_ny = data_hora_utc.astimezone(fuso_horario_ny)\n",
    "data_hora_tk = data_hora_utc.astimezone(fuso_horario_tk)\n",
    "\n",
    "print('| ESCRITÓRIOS |'.center(70, '='))\n",
    "print(f' {'São Paulo:':<11} {data_hora_sp.strftime('%A, %d %B %Y %H:%M:%S UTC%z')} -> {verifica_aberto(data_hora_sp)}')  \n",
    "print(f' {'Nova York:':<11} {data_hora_ny.strftime('%A, %d %B %Y %H:%M:%S UTC%z')} -> {verifica_aberto(data_hora_ny)}')\n",
    "print(f' {'Tóquio:':<11} {data_hora_tk.strftime('%A, %d %B %Y %H:%M:%S UTC%z')} -> {verifica_aberto(data_hora_tk)}')\n",
    "\n",
    "print('-' * 70)\n",
    "\n",
    "\n"
   ],
   "outputs": [
    {
     "name": "stdout",
     "output_type": "stream",
     "text": [
      "===========================| ESCRITÓRIOS |============================\n",
      " São Paulo:  sexta-feira, 11 julho 2025 03:23:41 UTC-0300 -> Fechado\n",
      " Nova York:  sexta-feira, 11 julho 2025 02:23:41 UTC-0400 -> Fechado\n",
      " Tóquio:     sexta-feira, 11 julho 2025 15:23:41 UTC+0900 -> Aberto\n",
      "----------------------------------------------------------------------\n"
     ]
    }
   ],
   "execution_count": 34
  }
 ],
 "metadata": {
  "kernelspec": {
   "display_name": "Python (projetos-pyc)",
   "language": "python",
   "name": "projetos-pyc"
  },
  "language_info": {
   "codemirror_mode": {
    "name": "ipython",
    "version": 3
   },
   "file_extension": ".py",
   "mimetype": "text/x-python",
   "name": "python",
   "nbconvert_exporter": "python",
   "pygments_lexer": "ipython3",
   "version": "3.10.11"
  }
 },
 "nbformat": 4,
 "nbformat_minor": 4
}
