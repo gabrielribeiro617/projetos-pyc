{
 "cells": [
  {
   "cell_type": "markdown",
   "id": "a5da8a33",
   "metadata": {},
   "source": [
    "# Modulo time\n",
    "\n",
    "### Estrutura: Um dos módulos mais usados no Python para trabalhar com datas, fazer o programa esperar algum tempo"
   ]
  },
  {
   "cell_type": "raw",
   "id": "ae1cb34c",
   "metadata": {},
   "source": [
    "import time"
   ]
  },
  {
   "cell_type": "code",
   "id": "6a593b43",
   "metadata": {
    "scrolled": true,
    "ExecuteTime": {
     "end_time": "2025-07-11T01:05:27.454244Z",
     "start_time": "2025-07-11T01:05:27.449242Z"
    }
   },
   "source": [
    "import time"
   ],
   "outputs": [],
   "execution_count": 1
  },
  {
   "cell_type": "markdown",
   "id": "5f16c8a5",
   "metadata": {},
   "source": [
    "- Marco Zero: EPOCH (01 de janeiro de 1970 às 00:00:00)\n",
    "- time() retorna quantos segundos se passaram desde a EPOCH"
   ]
  },
  {
   "cell_type": "code",
   "id": "77b050ec",
   "metadata": {
    "scrolled": true,
    "ExecuteTime": {
     "end_time": "2025-07-11T01:05:34.561056Z",
     "start_time": "2025-07-11T01:05:34.556087Z"
    }
   },
   "source": [
    "segundos_hoje = time.time()\n",
    "print(segundos_hoje)"
   ],
   "outputs": [
    {
     "name": "stdout",
     "output_type": "stream",
     "text": [
      "1752195934.55807\n"
     ]
    }
   ],
   "execution_count": 2
  },
  {
   "cell_type": "markdown",
   "id": "8e8f070f",
   "metadata": {},
   "source": [
    "- ctime() retorna a data em string"
   ]
  },
  {
   "cell_type": "code",
   "id": "20e97c7f",
   "metadata": {
    "scrolled": true,
    "ExecuteTime": {
     "end_time": "2025-07-11T01:05:37.429072Z",
     "start_time": "2025-07-11T01:05:37.423271Z"
    }
   },
   "source": [
    "data_hoje = time.ctime()\n",
    "print(data_hoje)"
   ],
   "outputs": [
    {
     "name": "stdout",
     "output_type": "stream",
     "text": [
      "Thu Jul 10 22:05:37 2025\n"
     ]
    }
   ],
   "execution_count": 3
  },
  {
   "cell_type": "markdown",
   "id": "426cf932",
   "metadata": {},
   "source": [
    "Isso já pode ser muito útil para medir o tempo que um código leva para rodar"
   ]
  },
  {
   "cell_type": "code",
   "id": "77386fd4",
   "metadata": {
    "scrolled": true,
    "ExecuteTime": {
     "end_time": "2025-07-11T01:05:48.674753Z",
     "start_time": "2025-07-11T01:05:45.788084Z"
    }
   },
   "source": [
    "tempo_inicial = time.time()\n",
    "for i in range(100000000):\n",
    "    pass\n",
    "tempo_final = time.time()\n",
    "duracao = tempo_final - tempo_inicial\n",
    "print(\"O programa levou {} segundos para rodar\".format(duracao))"
   ],
   "outputs": [
    {
     "name": "stdout",
     "output_type": "stream",
     "text": [
      "O programa levou 2.8826916217803955 segundos para rodar\n"
     ]
    }
   ],
   "execution_count": 4
  },
  {
   "cell_type": "markdown",
   "id": "f65e18c7",
   "metadata": {},
   "source": [
    "Fazer o programa esperar alguns segundos (muito útil quando temos que esperar um programa ou uma página carregar)"
   ]
  },
  {
   "cell_type": "code",
   "id": "b8ab981d",
   "metadata": {
    "scrolled": true,
    "ExecuteTime": {
     "end_time": "2025-07-11T01:05:59.271824Z",
     "start_time": "2025-07-11T01:05:54.267872Z"
    }
   },
   "source": [
    "print(\"Começando\")\n",
    "time.sleep(5)\n",
    "print(\"Rodou 5 segundos após\")"
   ],
   "outputs": [
    {
     "name": "stdout",
     "output_type": "stream",
     "text": [
      "Começando\n",
      "Rodou 5 segundos após\n"
     ]
    }
   ],
   "execution_count": 5
  },
  {
   "cell_type": "markdown",
   "id": "25ec9489",
   "metadata": {},
   "source": [
    "Pegar informações de dias, hora, minuto, segundo, tudo detalhado:\n",
    "- gmtime()\n",
    "- localtime()"
   ]
  },
  {
   "cell_type": "code",
   "id": "5e366342",
   "metadata": {
    "scrolled": true,
    "ExecuteTime": {
     "end_time": "2025-07-11T01:06:06.051080Z",
     "start_time": "2025-07-11T01:06:06.047323Z"
    }
   },
   "source": [
    "hora_geral = time.gmtime()\n",
    "hora_local = time.localtime()\n",
    "print(hora_geral)\n",
    "print(hora_local)"
   ],
   "outputs": [
    {
     "name": "stdout",
     "output_type": "stream",
     "text": [
      "time.struct_time(tm_year=2025, tm_mon=7, tm_mday=11, tm_hour=1, tm_min=6, tm_sec=6, tm_wday=4, tm_yday=192, tm_isdst=0)\n",
      "time.struct_time(tm_year=2025, tm_mon=7, tm_mday=10, tm_hour=22, tm_min=6, tm_sec=6, tm_wday=3, tm_yday=191, tm_isdst=0)\n"
     ]
    }
   ],
   "execution_count": 6
  },
  {
   "cell_type": "markdown",
   "id": "adc358f4",
   "metadata": {},
   "source": [
    "Qualquer struct_time permite você pegar as informações da data fazendo:\n",
    "- gmtime().parametro\n",
    "- localtime().parametro"
   ]
  },
  {
   "cell_type": "code",
   "id": "31e7c136",
   "metadata": {
    "scrolled": true,
    "ExecuteTime": {
     "end_time": "2025-07-11T01:06:36.246805Z",
     "start_time": "2025-07-11T01:06:36.243369Z"
    }
   },
   "source": [
    "dia = hora_local.tm_mday\n",
    "mes = hora_local.tm_mon\n",
    "ano = hora_local.tm_year\n",
    "dia_da_semana = hora_local.tm_wday\n",
    "\n",
    "print(\"Data: {}/{}/{}\".format(dia, mes, ano))\n",
    "print(f\"Data: {dia}/{mes}/{ano}\")"
   ],
   "outputs": [
    {
     "name": "stdout",
     "output_type": "stream",
     "text": [
      "Data: 10/7/2025\n",
      "Data: 10/7/2025\n"
     ]
    }
   ],
   "execution_count": 7
  },
  {
   "cell_type": "markdown",
   "id": "d3685ea0",
   "metadata": {},
   "source": [
    "Mais detalhes e mais exercícios nas próximas aulas\n",
    "\n",
    "Mais bibliotecas novas nos próximos módulos"
   ]
  }
 ],
 "metadata": {
  "kernelspec": {
   "display_name": "Python 3 (ipykernel)",
   "language": "python",
   "name": "python3"
  },
  "language_info": {
   "codemirror_mode": {
    "name": "ipython",
    "version": 3
   },
   "file_extension": ".py",
   "mimetype": "text/x-python",
   "name": "python",
   "nbconvert_exporter": "python",
   "pygments_lexer": "ipython3",
   "version": "3.10.9"
  }
 },
 "nbformat": 4,
 "nbformat_minor": 5
}
