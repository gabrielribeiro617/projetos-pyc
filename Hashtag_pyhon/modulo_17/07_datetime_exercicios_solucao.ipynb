{
 "cells": [
  {
   "cell_type": "markdown",
   "metadata": {},
   "source": [
    "## Oferecendo desconto para cliente com base na última compra\n",
    "\n",
    "Suponha que você está trabalhando para uma empresa que deseja rastrear a atividade do cliente. Uma métrica que eles estão interessados é o tempo que passou desde a última transação do cliente. Se for muito tempo, eles podem oferecer um desconto para o cliente. Crie um script Python que mostra quanto tempo se passou desde a última compra do cliente (10 de maio de 2023). Se faz mais de 30 dias, mostre uma mensagem oferecendo um desconto para o cliente."
   ]
  },
  {
   "cell_type": "code",
   "execution_count": 1,
   "metadata": {
    "ExecuteTime": {
     "end_time": "2023-06-29T20:13:05.758670100Z",
     "start_time": "2023-06-29T20:13:05.750614500Z"
    },
    "collapsed": false,
    "jupyter": {
     "outputs_hidden": false
    }
   },
   "outputs": [
    {
     "name": "stdout",
     "output_type": "stream",
     "text": [
      "Oferecer desconto para o cliente\n"
     ]
    }
   ],
   "source": [
    "from datetime import datetime\n",
    "\n",
    "ultima_compra = datetime(2023, 5, 10)\n",
    "data_hora_atual = datetime.now()\n",
    "\n",
    "diferenca = data_hora_atual - ultima_compra\n",
    "\n",
    "if diferenca.days > 30:\n",
    "    print(\"Parabéns, você ganhou um desconto!\")"
   ]
  },
  {
   "cell_type": "markdown",
   "metadata": {},
   "source": [
    "## Data e hora em diferentes fusos horários\n",
    "\n",
    "Uma empresa tem escritórios em São Paulo, Nova York e Tóquio. Crie um script Python que mostra a data e hora atuais nesses três fusos horários. Exiba, também, se estes escritórios estão abertos ou fechados (9h às 17h).\n"
   ]
  },
  {
   "cell_type": "code",
   "metadata": {
    "collapsed": false,
    "jupyter": {
     "outputs_hidden": false
    },
    "ExecuteTime": {
     "end_time": "2025-07-11T05:29:58.590351Z",
     "start_time": "2025-07-11T05:29:58.548944Z"
    }
   },
   "source": [
    "from datetime import datetime\n",
    "import pytz\n",
    "\n",
    "data_hora_atual = datetime.now()\n",
    "\n",
    "fuso_horario_sao_paulo = pytz.timezone('America/Sao_Paulo')\n",
    "data_hora_sao_paulo = data_hora_atual.astimezone(fuso_horario_sao_paulo)\n",
    "\n",
    "fuso_horario_ny = pytz.timezone('America/New_York')\n",
    "data_hora_ny = data_hora_atual.astimezone(fuso_horario_ny)\n",
    "\n",
    "fuso_horario_tokyo = pytz.timezone('Asia/Tokyo')\n",
    "data_hora_tokyo = data_hora_atual.astimezone(fuso_horario_tokyo)\n",
    "\n",
    "print(f\"Data/hora atual em São Paulo: {data_hora_sao_paulo}\")\n",
    "print(f\"Data/hora atual em Nova York: {data_hora_ny}\")\n",
    "print(f\"Data/hora atual em Tóquio: {data_hora_tokyo}\")\n"
   ],
   "outputs": [
    {
     "ename": "ModuleNotFoundError",
     "evalue": "No module named 'pytz'",
     "output_type": "error",
     "traceback": [
      "\u001B[31m---------------------------------------------------------------------------\u001B[39m",
      "\u001B[31mModuleNotFoundError\u001B[39m                       Traceback (most recent call last)",
      "\u001B[36mCell\u001B[39m\u001B[36m \u001B[39m\u001B[32mIn[2]\u001B[39m\u001B[32m, line 2\u001B[39m\n\u001B[32m      1\u001B[39m \u001B[38;5;28;01mfrom\u001B[39;00m\u001B[38;5;250m \u001B[39m\u001B[34;01mdatetime\u001B[39;00m\u001B[38;5;250m \u001B[39m\u001B[38;5;28;01mimport\u001B[39;00m datetime\n\u001B[32m----> \u001B[39m\u001B[32m2\u001B[39m \u001B[38;5;28;01mimport\u001B[39;00m\u001B[38;5;250m \u001B[39m\u001B[34;01mpytz\u001B[39;00m\n\u001B[32m      4\u001B[39m data_hora_atual = datetime.now()\n\u001B[32m      6\u001B[39m fuso_horario_sao_paulo = pytz.timezone(\u001B[33m'\u001B[39m\u001B[33mAmerica/Sao_Paulo\u001B[39m\u001B[33m'\u001B[39m)\n",
      "\u001B[31mModuleNotFoundError\u001B[39m: No module named 'pytz'"
     ]
    }
   ],
   "execution_count": 2
  },
  {
   "cell_type": "code",
   "execution_count": 5,
   "metadata": {
    "ExecuteTime": {
     "end_time": "2023-06-29T20:24:02.788481200Z",
     "start_time": "2023-06-29T20:24:02.783389200Z"
    },
    "collapsed": false,
    "jupyter": {
     "outputs_hidden": false
    }
   },
   "outputs": [
    {
     "name": "stdout",
     "output_type": "stream",
     "text": [
      "O escritório de São Paulo está fechado.\n",
      "O escritório de Nova York está aberto.\n",
      "O escritório de Tóquio está fechado.\n"
     ]
    }
   ],
   "source": [
    "# Verificando se os escritórios estão abertos ou fechados\n",
    "\n",
    "\n",
    "def verifica_horario(data_hora):\n",
    "    if 9 <= data_hora.hour < 17:\n",
    "        return \"aberto\"\n",
    "    else:\n",
    "        return \"fechado\"\n",
    "\n",
    "\n",
    "print(f\"O escritório de São Paulo está {verifica_horario(data_hora_sao_paulo)}.\")\n",
    "print(f\"O escritório de Nova York está {verifica_horario(data_hora_ny)}.\")\n",
    "print(f\"O escritório de Tóquio está {verifica_horario(data_hora_tokyo)}.\")\n"
   ]
  }
 ],
 "metadata": {
  "kernelspec": {
   "display_name": "Python 3 (ipykernel)",
   "language": "python",
   "name": "python3"
  },
  "language_info": {
   "codemirror_mode": {
    "name": "ipython",
    "version": 3
   },
   "file_extension": ".py",
   "mimetype": "text/x-python",
   "name": "python",
   "nbconvert_exporter": "python",
   "pygments_lexer": "ipython3",
   "version": "3.10.11"
  }
 },
 "nbformat": 4,
 "nbformat_minor": 4
}
