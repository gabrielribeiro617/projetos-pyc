{
 "cells": [
  {
   "cell_type": "markdown",
   "metadata": {},
   "source": [
    "## Tempo até o próximo ano\n",
    "\n",
    "Crie um script Python que calcula quantos dias, horas, minutos e segundos faltam até o próximo Ano Novo.\n",
    "\n"
   ]
  },
  {
   "cell_type": "markdown",
   "metadata": {
    "tags": []
   },
   "source": [
    "Lembrar da tupla de struct_time: https://docs.python.org/3/library/time.html#time.struct_time"
   ]
  },
  {
   "cell_type": "code",
   "metadata": {
    "tags": [],
    "ExecuteTime": {
     "end_time": "2025-07-11T02:46:07.451619Z",
     "start_time": "2025-07-11T02:46:07.446233Z"
    }
   },
   "source": [
    "# lembrando\n",
    "\n",
    "segundos_por_minuto = 60\n",
    "segundos_por_hora = 60 * 60\n",
    "segundos_por_dia = 24 * 60 * 60\n",
    "\n",
    "print(f\"Segundos em um minuto: {segundos_por_minuto} s\")\n",
    "print(f\"Segundos em uma hora: {segundos_por_hora} s\")\n",
    "print(f\"Segundos em um dia: {segundos_por_dia} s\")"
   ],
   "outputs": [
    {
     "name": "stdout",
     "output_type": "stream",
     "text": [
      "Segundos em um minuto: 60 s\n",
      "Segundos em uma hora: 3600 s\n",
      "Segundos em um dia: 86400 s\n"
     ]
    }
   ],
   "execution_count": 1
  },
  {
   "cell_type": "markdown",
   "metadata": {
    "tags": []
   },
   "source": [
    "Lembrando de divisão:\n",
    "\n",
    "![divisao](https://escolaeducacao.com.br/wp-content/uploads/2020/01/algoritmo-divisao.png)"
   ]
  },
  {
   "cell_type": "code",
   "metadata": {
    "ExecuteTime": {
     "end_time": "2025-07-11T03:13:59.208052Z",
     "start_time": "2025-07-11T03:13:59.203662Z"
    }
   },
   "source": [
    "import locale\n",
    "import time\n",
    "\n",
    "locale.setlocale(locale.LC_TIME, 'pt_BR.UTF-8')\n",
    "\n",
    "tempo_atual_struct = time.localtime()\n",
    "tempo_atual_segundos = time.mktime(tempo_atual_struct)\n",
    "\n",
    "ano_novo_struct = (tempo_atual_struct.tm_year + 1,1,1,0,0,0,0,0,0)\n",
    "ano_novo_segundos = time.mktime(ano_novo_struct)\n",
    "\n",
    "diferenca_segundos = int(ano_novo_segundos - tempo_atual_segundos)\n",
    "formato_tempo = 'Faltam %d dias, %H horas, %M minutos e %S segundos para o Ano Novo!'\n",
    "\n",
    "print(tempo_atual_struct)\n",
    "print(tempo_atual_segundos)\n",
    "print(ano_novo_struct)\n",
    "print(diferenca_segundos)\n",
    "\n",
    "\n"
   ],
   "outputs": [
    {
     "name": "stdout",
     "output_type": "stream",
     "text": [
      "time.struct_time(tm_year=2025, tm_mon=7, tm_mday=11, tm_hour=0, tm_min=13, tm_sec=59, tm_wday=4, tm_yday=192, tm_isdst=0)\n",
      "1752203639.0\n",
      "(2026, 1, 1, 0, 0, 0, 0, 0, 0)\n",
      "15032761\n"
     ]
    }
   ],
   "execution_count": 35
  }
 ],
 "metadata": {
  "kernelspec": {
   "display_name": "Python 3 (ipykernel)",
   "language": "python",
   "name": "python3"
  },
  "language_info": {
   "codemirror_mode": {
    "name": "ipython",
    "version": 3
   },
   "file_extension": ".py",
   "mimetype": "text/x-python",
   "name": "python",
   "nbconvert_exporter": "python",
   "pygments_lexer": "ipython3",
   "version": "3.10.11"
  }
 },
 "nbformat": 4,
 "nbformat_minor": 4
}
