{
 "cells": [
  {
   "cell_type": "markdown",
   "metadata": {},
   "source": [
    "## Calculando a idade\n",
    "\n",
    "Um usuário fornece sua data de nascimento no formato \"dd/mm/aaaa\". Crie um script Python que calcula a idade do usuário.\n"
   ]
  },
  {
   "metadata": {
    "ExecuteTime": {
     "end_time": "2025-07-11T19:25:09.604682Z",
     "start_time": "2025-07-11T19:25:02.261547Z"
    }
   },
   "cell_type": "code",
   "source": [
    "from datetime import datetime\n",
    "import locale\n",
    "import re\n",
    "\n",
    "def validar_data(data):\n",
    "    padrao = r'(0[1-9]|[12][0-9]|3[01])/(0[1-9]|1[0-2])/([0-9]{4})'\n",
    "    \n",
    "    if not re.fullmatch(padrao, data):\n",
    "        return False\n",
    "    \n",
    "    try:\n",
    "        data_obj = datetime.strptime(data, '%d/%m/%Y')\n",
    "        \n",
    "        if data_obj.year > datetime.now().year:\n",
    "            return False\n",
    "        return True\n",
    "    except ValueError:\n",
    "        return False\n",
    "\n",
    "def calcular_idade(data):\n",
    "    nascimento = datetime.strptime(data, '%d/%m/%Y')\n",
    "    data_atual = datetime.now()\n",
    "    \n",
    "    idade = data_atual.year - nascimento.year\n",
    "    \n",
    "    if (data_atual.month, data_atual.day) < (nascimento.month, nascimento.day):\n",
    "        idade -= 1\n",
    "    return idade\n",
    "    \n",
    "\n",
    "try:\n",
    "    locale.setlocale(locale.LC_TIME, 'pt_BR.UTF-8')\n",
    "except ValueError:\n",
    "    try:\n",
    "        locale.setlocale(locale.LC_TIME, 'pt_BR')\n",
    "    except ValueError:\n",
    "        print('Locale pt_BR não disponível no sistema.')\n",
    "        \n",
    "data_nascimento = str(input('Data de nascimento [dd/mm/aaaa]: ')).strip()\n",
    "\n",
    "if validar_data(data_nascimento):\n",
    "    idade = calcular_idade(data_nascimento)\n",
    "    print(f'Você tem {idade} anos de idade.')\n",
    "else:\n",
    "    print('Data inválida!')\n",
    "    exit()\n",
    "\n"
   ],
   "outputs": [
    {
     "name": "stdout",
     "output_type": "stream",
     "text": [
      "Você tem 19 anos de idade.\n"
     ]
    }
   ],
   "execution_count": 1
  }
 ],
 "metadata": {
  "kernelspec": {
   "display_name": "Python 3 (ipykernel)",
   "language": "python",
   "name": "python3"
  },
  "language_info": {
   "codemirror_mode": {
    "name": "ipython",
    "version": 3
   },
   "file_extension": ".py",
   "mimetype": "text/x-python",
   "name": "python",
   "nbconvert_exporter": "python",
   "pygments_lexer": "ipython3",
   "version": "3.10.11"
  }
 },
 "nbformat": 4,
 "nbformat_minor": 4
}
