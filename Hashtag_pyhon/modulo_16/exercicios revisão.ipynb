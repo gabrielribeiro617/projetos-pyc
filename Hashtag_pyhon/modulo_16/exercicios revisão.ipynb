{
 "cells": [
  {
   "cell_type": "markdown",
   "metadata": {},
   "source": [
    "# Exercícios Python"
   ]
  },
  {
   "cell_type": "markdown",
   "metadata": {},
   "source": [
    "### Sua empresa resolveu pagar uma bonificação de R$1.000 para todos os funcionários com mais de 20 anos de casa. Quanto vai custar a ação de bonificação para a sua empresa?"
   ]
  },
  {
   "cell_type": "code",
   "metadata": {
    "ExecuteTime": {
     "end_time": "2025-07-10T04:32:11.426066Z",
     "start_time": "2025-07-10T04:32:11.420533Z"
    }
   },
   "source": [
    "anos_casa_funcionarios = [10, 15, 20, 25, 30, 47, 2, 5, 5, 6, 18, 32, 10, 1, 1, 2, 3, 3, 2, 1, 10, 40, 21, 10, 1, 2, 5, 7, 7, 6, 9, 19]\n",
    "\n",
    "bonificacao = 1000\n",
    "cont = sum(1 for ano in anos_casa_funcionarios if ano > 20)\n",
    "\n",
    "print(f'Custo da bonificação: R$ {cont * bonificacao:.2f}')\n"
   ],
   "outputs": [
    {
     "name": "stdout",
     "output_type": "stream",
     "text": [
      "Custo da bonificação: R$ 6000.00\n"
     ]
    }
   ],
   "execution_count": 1
  },
  {
   "cell_type": "markdown",
   "metadata": {},
   "source": [
    "### Desenvolva um programa que armazene quatro notas em uma lista e que apresente: a média final, a maior nota e a menor nota\n"
   ]
  },
  {
   "cell_type": "code",
   "metadata": {
    "ExecuteTime": {
     "end_time": "2025-07-06T02:06:48.471111Z",
     "start_time": "2025-07-06T02:06:36.884338Z"
    }
   },
   "source": [
    "notas = []\n",
    "\n",
    "for i in range(4):\n",
    "    try:\n",
    "        nota = float(input(f'{i + 1}ª Nota: '))\n",
    "    except ValueError:\n",
    "        print('ERRO! Digite apenas números (inteiro ou real).')\n",
    "    else:\n",
    "        notas.append(nota)\n",
    "\n",
    "print('-' * 30)\n",
    "print(f'Média Final: {sum(notas) / len(notas):.1f}')\n",
    "print(f'Maior Nota: {max(notas):.1f}')\n",
    "print(f'Menor Nota: {min(notas):.1f}')\n"
   ],
   "outputs": [
    {
     "name": "stdout",
     "output_type": "stream",
     "text": [
      "------------------------------\n",
      "Média Final: 7.05\n",
      "Maior Nota: 10.0\n",
      "Menor Nota: 4.8\n"
     ]
    }
   ],
   "execution_count": 3
  },
  {
   "cell_type": "markdown",
   "metadata": {},
   "source": [
    "### Desenvolva um programa que armazene quatro notas em uma lista e que apresente a média final. Caso a média seja igual ou superior a 7, apresentar a mensagem \"APROVADO\", caso contrário, armazenar a nota da prova final e recalcular a média (nova média = (antiga média + prova final) / 2). Caso a nova média seja igual superior a 5, apresentar a mensagem \"APROVADO\", caso contrário, apresentar a mensagem \"REPROVADO\""
   ]
  },
  {
   "cell_type": "code",
   "metadata": {
    "ExecuteTime": {
     "end_time": "2025-07-06T02:16:26.932446Z",
     "start_time": "2025-07-06T02:16:07.186451Z"
    }
   },
   "source": [
    "notas = []\n",
    "\n",
    "for i in range(4):\n",
    "    try:\n",
    "        nota = float(input(f'{i + 1}ª Nota: '))\n",
    "    except ValueError:\n",
    "        print('ERRO! Digite apenas números (inteiro ou real).')\n",
    "    else:\n",
    "        notas.append(nota)\n",
    "\n",
    "media = sum(notas) / len(notas)\n",
    "\n",
    "print('-' * 30)\n",
    "print(f'Média Final: {media:.1f}')\n",
    "\n",
    "if media >= 7:\n",
    "    print('APROVADO')\n",
    "else:\n",
    "    try:\n",
    "        nota_prova_final = float(input('Nota da Prova Final: '))\n",
    "    except ValueError:\n",
    "        print('ERRO! Digite apenas números (inteiro ou real).')\n",
    "    else:\n",
    "        nova_media = (media + nota_prova_final) / 2\n",
    "        \n",
    "        if nova_media >= 5:\n",
    "            print('APROVADO')\n",
    "        else:\n",
    "            print('REPROVADO')\n"
   ],
   "outputs": [
    {
     "name": "stdout",
     "output_type": "stream",
     "text": [
      "------------------------------\n",
      "Média Final: 6.2\n",
      "APROVADO\n"
     ]
    }
   ],
   "execution_count": 4
  },
  {
   "cell_type": "markdown",
   "metadata": {},
   "source": [
    "### Desenvolva um programa que pergunte para o usuário o nome completo, cpf, endereço e duração do contrato e personalize todo o texto do contrato de acordo com as informações dadas.\n"
   ]
  },
  {
   "cell_type": "code",
   "metadata": {
    "ExecuteTime": {
     "end_time": "2025-07-06T02:56:33.796050Z",
     "start_time": "2025-07-06T02:56:33.791547Z"
    }
   },
   "source": [
    "texto_contrato = \"\"\"\n",
    "CONTRATO DE PRESTAÇÃO DE SERVIÇOS PROFISSIONAIS\n",
    "\n",
    "\t\tPelo presente instrumento particular de Contrato de Prestação de Serviços Contábeis, de um lado NOME_CONTRATANTE inscrita no CPF, sob nº CPF_CONTRATANTE,doravante denominada CONTRATANTE, residente e domiciliado(a)  à RUA_CONTRATANTE, Cidade CIDADE_CONTRATANTE, Estado ESTADO_CONTRATANTE, e o Contabilista Fulano, com escritório à Qualquer Lugar, Cidade Rio de Janeiro Estado RJ , inscrito no CNPJ Nº 22222222000100, doravante CONTRATADO(A), mediante as cláusulas e condições seguintes, tem justo e “Contratado” o que se segue:\n",
    "\n",
    "CLAUSULA PRIMEIRA - A contratante neste ato, contrata os serviços profissionais do contratado(a) nas seguintes àreas:\n",
    "\t\t\n",
    "1. Escrituração Contábil.\n",
    "1.1 - Classificação da contabilidade de acordo com  normas e princípios contábeis vigentes;\n",
    "1.2 - Emissão de Balancetes:\n",
    "1.3 - Elaboração de Balanço anual e Demonstrativo de Resultado.\n",
    "\t\t\n",
    "E por estarem de comum acordo, assinam o presente instrumento em duas vias, de igual teor e forma, na presença das testemunhas abaixo.\n",
    "\n",
    "\n",
    "DIA_DATA/MES_DATA/ANO_DATA.\n",
    "\n",
    "\n",
    "_________________________________                      __________________________\n",
    "    Contratante - NOME_CONTRATANTE                                     Contratado(a)\n",
    "\n",
    "\n",
    "\"\"\""
   ],
   "outputs": [],
   "execution_count": 10
  },
  {
   "metadata": {
    "ExecuteTime": {
     "end_time": "2025-07-06T03:01:35.581116Z",
     "start_time": "2025-07-06T03:01:10.675516Z"
    }
   },
   "cell_type": "code",
   "source": [
    "import re\n",
    "\n",
    "while True:\n",
    "    nome_completo = str(input('Nome completo: ')).strip().title()\n",
    "    \n",
    "    if re.match(r\"^[A-Za-zÀ-ÿ' ]+$\", nome_completo):\n",
    "        cpf = input('CPF: ').strip()\n",
    "        cpf = re.sub(r'\\D', '', cpf)\n",
    "        \n",
    "        if len(cpf) == 11:\n",
    "            cpf = str(cpf)\n",
    "        else:\n",
    "            print('CPF inválido.')\n",
    "            continue\n",
    "        \n",
    "        print('Endereço'.center(30))\n",
    "        rua = str(input('rua: ')).strip()\n",
    "        \n",
    "        if re.match(r\"^[A-Za-zÀ-ÿ'\\d,\\s ]+$\", rua):\n",
    "            cidade = str(input('Cidade: ')).strip()\n",
    "            \n",
    "            if re.match(r\"^[A-Za-zÀ-ÿ' ]+$\", cidade):\n",
    "                estado = str(input('Estado: ')).strip()\n",
    "                \n",
    "                if re.match(r\"^[A-Za-zÀ-ÿ' ]+$\", estado):\n",
    "                    duracao = str(input('Duração [dia/mês/ano]: '))\n",
    "                    duracao = re.sub(r'\\D', '', duracao)\n",
    "                    \n",
    "                    if duracao.isnumeric():\n",
    "                        break\n",
    "                    else:\n",
    "                        print('Digite apenas números.')\n",
    "                        continue\n",
    "                else:\n",
    "                    print('Entrada inválida!')\n",
    "                    continue\n",
    "            else:\n",
    "                print('Entrada inválida!')\n",
    "                continue\n",
    "        else:\n",
    "            print('Entrada inválida!')\n",
    "            continue\n",
    "    else:\n",
    "        print('Entrada inválida! Apenas digite letras.')\n",
    "        continue\n",
    "\n",
    "texto_contrato = texto_contrato.replace('NOME_CONTRATANTE', nome_completo)\n",
    "texto_contrato = texto_contrato.replace('CPF_CONTRATANTE', cpf)\n",
    "texto_contrato = texto_contrato.replace('RUA_CONTRATANTE', rua)\n",
    "texto_contrato = texto_contrato.replace('CIDADE_CONTRATANTE', cidade)\n",
    "texto_contrato = texto_contrato.replace('ESTADO_CONTRATANTE', estado)\n",
    "texto_contrato = texto_contrato.replace('DIA_DATA', duracao[:2])\n",
    "texto_contrato = texto_contrato.replace('MES_DATA', duracao[2:4])\n",
    "texto_contrato = texto_contrato.replace('ANO_DATA', duracao[4:])\n",
    "\n",
    "print(texto_contrato)\n"
   ],
   "outputs": [
    {
     "name": "stdout",
     "output_type": "stream",
     "text": [
      "           Endereço           \n",
      "\n",
      "CONTRATO DE PRESTAÇÃO DE SERVIÇOS PROFISSIONAIS\n",
      "\n",
      "\t\tPelo presente instrumento particular de Contrato de Prestação de Serviços Contábeis, de um lado Gabriel Gomes Ribeiro inscrita no CPF, sob nº 12345678901,doravante denominada CONTRATANTE, residente e domiciliado(a)  à James Baxter, Cidade Niterói, Estado RJ, e o Contabilista Fulano, com escritório à Qualquer Lugar, Cidade Rio de Janeiro Estado RJ , inscrito no CNPJ Nº 22222222000100, doravante CONTRATADO(A), mediante as cláusulas e condições seguintes, tem justo e “Contratado” o que se segue:\n",
      "\n",
      "CLAUSULA PRIMEIRA - A contratante neste ato, contrata os serviços profissionais do contratado(a) nas seguintes àreas:\n",
      "\n",
      "1. Escrituração Contábil.\n",
      "1.1 - Classificação da contabilidade de acordo com  normas e princípios contábeis vigentes;\n",
      "1.2 - Emissão de Balancetes:\n",
      "1.3 - Elaboração de Balanço anual e Demonstrativo de Resultado.\n",
      "\n",
      "E por estarem de comum acordo, assinam o presente instrumento em duas vias, de igual teor e forma, na presença das testemunhas abaixo.\n",
      "\n",
      "\n",
      "14/10/2005.\n",
      "\n",
      "\n",
      "_________________________________                      __________________________\n",
      "    Contratante - Gabriel Gomes Ribeiro                                     Contratado(a)\n",
      "\n",
      "\n",
      "\n"
     ]
    }
   ],
   "execution_count": 13
  },
  {
   "cell_type": "markdown",
   "metadata": {},
   "source": [
    "### Crie um programa que converta a temperatura de celsius para Faremheit\n",
    "    - Agora adapte o programa para ele funcionar para uma lista de temperaturas\n",
    "    - Agora adapte o programa para ele conseguir fazer a conversão tanto de C para F quanto de F para C de acordo com a escolha do usuário."
   ]
  },
  {
   "cell_type": "code",
   "metadata": {
    "ExecuteTime": {
     "end_time": "2025-07-06T03:10:05.216755Z",
     "start_time": "2025-07-06T03:10:02.073813Z"
    }
   },
   "source": [
    "# Parte 1\n",
    "def celsius_para_fahrenheit(cels):\n",
    "    return (cels * (9 / 5)) + 32\n",
    "\n",
    "try:\n",
    "    celsius = float(input('Temperatura e °C: '))\n",
    "except ValueError:\n",
    "    print('Digite apenas números.')\n",
    "else:\n",
    "    print(f'{celsius}°C -> {celsius_para_fahrenheit(celsius):.1f}°F')\n",
    "    "
   ],
   "outputs": [
    {
     "name": "stdout",
     "output_type": "stream",
     "text": [
      "25°C -> 77°F\n"
     ]
    }
   ],
   "execution_count": 16
  },
  {
   "cell_type": "code",
   "metadata": {
    "ExecuteTime": {
     "end_time": "2025-07-06T03:12:06.588510Z",
     "start_time": "2025-07-06T03:12:06.584648Z"
    }
   },
   "source": [
    "# Parte 2\n",
    "def celsius_para_fahrenheit(cels):\n",
    "    return (cels * (9 / 5)) + 32\n",
    "\n",
    "temperaturas_celsius = [22.5, 18.0, 25.3, 30.0, 16.8, 20.0, 27.7, 15.2, 19.5, 23.1]\n",
    "\n",
    "for temperatura in temperaturas_celsius:\n",
    "    print(f'{temperatura}°C -> {celsius_para_fahrenheit(temperatura):.1f}°F')"
   ],
   "outputs": [
    {
     "name": "stdout",
     "output_type": "stream",
     "text": [
      "22.5°C -> 72.5°F\n",
      "18.0°C -> 64.4°F\n",
      "25.3°C -> 77.5°F\n",
      "30.0°C -> 86.0°F\n",
      "16.8°C -> 62.2°F\n",
      "20.0°C -> 68.0°F\n",
      "27.7°C -> 81.9°F\n",
      "15.2°C -> 59.4°F\n",
      "19.5°C -> 67.1°F\n",
      "23.1°C -> 73.6°F\n"
     ]
    }
   ],
   "execution_count": 18
  },
  {
   "cell_type": "code",
   "metadata": {
    "ExecuteTime": {
     "end_time": "2025-07-06T03:22:16.614365Z",
     "start_time": "2025-07-06T03:22:11.483440Z"
    }
   },
   "source": [
    "# Parte 3\n",
    "# seu código aqui - Agora adapte o programa para ele conseguir fazer a conversão tanto de C para F quanto de F para C de acordo com a escolha do usuário.\n",
    "def celsius_para_fahrenheit(cels):\n",
    "    return (cels * (9 / 5)) + 32\n",
    "\n",
    "def fahrenheit_para_celsius(fahr):\n",
    "    return (fahr - 32) * 5 / 9\n",
    "\n",
    "print(' CONVERSÃO DE TEMPERATURA '.center(30, '='))\n",
    "print(\"\"\"Opções:\n",
    "[ 1 ] °C -> °F\n",
    "[ 2 ] °F -> °C\"\"\")\n",
    "print('-' * 30)\n",
    "\n",
    "try:\n",
    "    escolha = int(input('-> '))\n",
    "except ValueError:\n",
    "    print('Digite apenas números inteiros.')\n",
    "else:\n",
    "    if escolha in [1, 2]:\n",
    "        if escolha == 1:\n",
    "            try:\n",
    "                celsius = float(input('Temperatura e °C: '))\n",
    "            except ValueError:\n",
    "                print('Digite apenas números.')\n",
    "            else:\n",
    "                print(f'{celsius}°C -> {celsius_para_fahrenheit(celsius):.1f}°F')\n",
    "        else:\n",
    "            try:\n",
    "                fahrenheit = float(input('Temperatura e °F: '))\n",
    "            except ValueError:\n",
    "                print('Digite apenas números.')\n",
    "            else:\n",
    "                print(f'{fahrenheit}°F -> {fahrenheit_para_celsius(fahrenheit):.1f}°C')\n",
    "    else:\n",
    "        print('Opção inválida! Digite apenas 1 ou 2.')\n",
    "            \n"
   ],
   "outputs": [
    {
     "name": "stdout",
     "output_type": "stream",
     "text": [
      "== CONVERSÃO DE TEMPERATURA ==\n",
      "Opções:\n",
      "[ 1 ] °C -> °F\n",
      "[ 2 ] °F -> °C\n",
      "------------------------------\n",
      "77.0°F -> 25.0°C\n"
     ]
    }
   ],
   "execution_count": 25
  },
  {
   "cell_type": "markdown",
   "metadata": {},
   "source": [
    "### Analisador de Telefone\n",
    "\n",
    "- Crie um programa que receba um telefone e verifique se ele é um telefone real brasileiro. Seu programa deve conseguir tratar espaços em branco, parênteses, existência de um 9º dígito no número ou não, existência de DDD ou não e deve obrigar o usuário a inserir o código do País (+55)\n",
    "\n",
    "Válidos:<br>\n",
    "\"+55 21 9799999999\"<br>\n",
    "\"+55 21 799999999 \"<br>\n",
    "\"+55 (21)79999-9999\"<br>\n",
    "\"+5521799999999\"<br>"
   ]
  },
  {
   "cell_type": "code",
   "metadata": {
    "ExecuteTime": {
     "end_time": "2025-07-06T03:39:28.966761Z",
     "start_time": "2025-07-06T03:39:15.032375Z"
    }
   },
   "source": [
    "import re\n",
    "\n",
    "telefone = str(input('Telefone (com DDD): ')).strip()\n",
    "\n",
    "if re.match(r'^[+\\d()\\- ]+$', telefone) and telefone[:3] == '+55':\n",
    "    telefone_limpo = re.sub(r'\\D', '', telefone)\n",
    "    \n",
    "    if 8 <= len(telefone_limpo[5:]) <= 9:\n",
    "        print(f'{telefone} é um número válido.')\n",
    "    else:\n",
    "        print('Número inválido! Possui menos de 8 dígitos ou mais de 9 dígitos.')\n",
    "        \n",
    "else:\n",
    "    print('Entrada inválida! Não possui o código do país.')\n",
    "\n"
   ],
   "outputs": [
    {
     "name": "stdout",
     "output_type": "stream",
     "text": [
      "+55 (21) 9 6599-6506 é um número válido.\n"
     ]
    }
   ],
   "execution_count": 33
  },
  {
   "cell_type": "markdown",
   "metadata": {},
   "source": [
    "### Analisador de URL\n",
    "    - Seu programa deve pedir um link/URL para o usuário, como por exemplo: https://www.hashtagtreinamentos.com/blog\n",
    "    - Ele deve analisar essa URL dizendo:\n",
    "        - Domínio: hashtagtreinamentos.com\n",
    "        - Protocolo: HTTPS (tudo que vem antes de começar o endereço da URL, no caso antes do :)\n",
    "        - Caminho: /blog (tudo que vem depois do domínio, a partir da primeira / até antes dos parâmetros de busca)\n",
    "        - Parâmetros de busca: (Tudo que vem depois do ? e são separados entre si por um &. Os links podem ter isso ou não)\n",
    "\n",
    "Exemplos de URL:\n",
    "\n",
    "https://www.hashtagtreinamentos.com/blog<br>\n",
    "https://lp.hashtagtreinamentos.com/inscricao-intensivao-de-python-igfb?origemurl=curso&fonte=portal<br>\n",
    "https://lp.hashtagtreinamentos.com/inscricao-intensivao-de-python-igfb?origemurl=exercicios"
   ]
  },
  {
   "cell_type": "code",
   "metadata": {
    "ExecuteTime": {
     "end_time": "2025-07-07T03:22:09.178036Z",
     "start_time": "2025-07-07T03:22:07.560535Z"
    }
   },
   "source": [
    "from urllib.parse import urlparse, parse_qs\n",
    "\n",
    "def url_valida(url):\n",
    "    try:\n",
    "        result = urlparse(url)\n",
    "        return all([result.scheme, result.netloc])\n",
    "    except:\n",
    "        return False\n",
    "    \n",
    "def url_separacao(url):\n",
    "    resultado = urlparse(url)\n",
    "    \n",
    "    prot = resultado.scheme.upper()\n",
    "    dom = resultado.netloc.replace('www.', '')\n",
    "    cam = resultado.path\n",
    "    param = parse_qs(resultado.query)\n",
    "    \n",
    "    return prot, dom, cam, param\n",
    "\n",
    "link = str(input('Link: ')).strip()\n",
    "\n",
    "if url_valida(link):    \n",
    "    protocolo, dominio, caminho, parametros_busca = url_separacao(link)\n",
    "    \n",
    "    print(' ANÁLISE DE URL '.center(50, '='))\n",
    "    print(f'- Domínio: {dominio}')\n",
    "    print(f'- Protocolo: {protocolo}')\n",
    "    print(f'- Caminho: {caminho}')\n",
    "    \n",
    "    if parametros_busca:\n",
    "        print(f'- Parâmetros de Busca:')\n",
    "        for chave, valor in parametros_busca.items():\n",
    "            print(f'\\t* {chave}: {', '.join(valor)}')\n",
    "    else:\n",
    "        print('- Parâmetros de Busca: Nenhum')\n",
    "        \n",
    "else:\n",
    "    print('URL inválida!')\n"
   ],
   "outputs": [
    {
     "name": "stdout",
     "output_type": "stream",
     "text": [
      "================= ANÁLISE DE URL =================\n",
      "- Domínio: lp.hashtagtreinamentos.com\n",
      "- Protocolo: HTTPS\n",
      "- Caminho: /inscricao-intensivao-de-python-igfb\n",
      "- Parâmetros de Busca:\n",
      "\t* origemurl: curso\n",
      "\t* fonte: portal\n"
     ]
    }
   ],
   "execution_count": 8
  },
  {
   "cell_type": "markdown",
   "metadata": {},
   "source": [
    "### Crie um programa que dado o e-mail de um usuário, valide se aquele e-mail é válido com as seguintes regras:\n",
    "    - Tem que ter .com ou .gov\n",
    "    - Tem que ter @\n",
    "    - Tem que ter mais de 5 caracteres\n",
    "    - Não pode ter espaço"
   ]
  },
  {
   "cell_type": "code",
   "metadata": {
    "ExecuteTime": {
     "end_time": "2025-07-07T03:42:18.553019Z",
     "start_time": "2025-07-07T03:42:10.904927Z"
    }
   },
   "source": [
    "import re\n",
    "\n",
    "def validar_email(email):\n",
    "    padrao = r'^[a-zA-Z0-9_.+-]+@[a-zA-Z0-9-]+\\.(com|gov)$'\n",
    "    return bool(re.fullmatch(padrao, email))\n",
    "\n",
    "email = str(input('E-mail: ')).strip()\n",
    "\n",
    "if validar_email(email):\n",
    "    print('E-mail válido!')\n",
    "else:\n",
    "    print('E-mail inválido!')\n"
   ],
   "outputs": [
    {
     "name": "stdout",
     "output_type": "stream",
     "text": [
      "E-mail válido!\n"
     ]
    }
   ],
   "execution_count": 13
  },
  {
   "cell_type": "markdown",
   "metadata": {},
   "source": [
    "### ToDo List no Terminal\n",
    "\n",
    "Crie um programa para criar uma lista de tarefas para o usuário (mais futuramente no curso, aprenderemos a armazenar essas informações em um banco de dados para essa lista poder ser editada e armazenada)\n",
    "\n",
    "Seu programa deve pedir as tarefas que o usuário tem que fazer em um dia e, a cada inserção de uma nova tarefa, dizer que a tarefa foi adicionada a lista de tarefas. Quando o usuário digitar apenas enter no seu input (sem inserir nenhuma tarefa, seu programa deve printar a quantidade de tarefas para o dia e a lista de tarefas completa)"
   ]
  },
  {
   "cell_type": "code",
   "metadata": {
    "ExecuteTime": {
     "end_time": "2025-07-07T03:58:20.386972Z",
     "start_time": "2025-07-07T03:56:35.998146Z"
    }
   },
   "source": [
    "from random import randint\n",
    "\n",
    "tarefas = []\n",
    "\n",
    "print('DIGITE SUAS TAREFAS '.ljust(50, '-'))\n",
    "print(' * Aperte \\'Enter\\' para sair')\n",
    "\n",
    "while True:\n",
    "    tarefa = str(input('-> ')).strip()\n",
    "    if not tarefa:\n",
    "        break\n",
    "    else:\n",
    "        tarefas.append(tarefa)\n",
    "        print('Tarefa adicionada!')\n",
    "\n",
    "print(f'\\n TAREFAS ({randint(1, 31)}/{randint(1, 12)}) '.center(50, '='))\n",
    "print(f' * Quantidade de tarefas: {len(tarefas)}')\n",
    "\n",
    "for trf in tarefas:\n",
    "    print(f' [  ] {trf}')\n"
   ],
   "outputs": [
    {
     "name": "stdout",
     "output_type": "stream",
     "text": [
      "DIGITE SUAS TAREFAS ------------------------------\n",
      " * Aperte 'Enter' para sair\n",
      "Tarefa adicionada!\n",
      "Tarefa adicionada!\n",
      "Tarefa adicionada!\n",
      "Tarefa adicionada!\n",
      "Tarefa adicionada!\n",
      "Tarefa adicionada!\n",
      "Tarefa adicionada!\n",
      "Tarefa adicionada!\n",
      "Tarefa adicionada!\n",
      "Tarefa adicionada!\n",
      "Tarefa adicionada!\n",
      "Tarefa adicionada!\n",
      "Tarefa adicionada!\n",
      "Tarefa adicionada!\n",
      "================= TAREFAS (20/2)==================\n",
      " * Quantidade de tarefas: 14\n",
      " [  ] Ler a Bíblia\n",
      " [  ] Lavar a louça\n",
      " [  ] Encher as garrafas\n",
      " [  ] Encher o filtro\n",
      " [  ] Varrer a casa\n",
      " [  ] Limpar fogão\n",
      " [  ] Lavar o quintal\n",
      " [  ] Cuidar do cachorro\n",
      " [  ] EStudar os cursos\n",
      " [  ] Ler o livro\n",
      " [  ] Passar café\n",
      " [  ] Lavar a roupa\n",
      " [  ] Dobrar as roupas\n",
      " [  ] Estender as roupas\n"
     ]
    }
   ],
   "execution_count": 19
  },
  {
   "cell_type": "markdown",
   "metadata": {},
   "source": [
    "### Conversor de Moedas\n",
    "\n",
    "- Parte 1: Crie um conversor de moedas que pergunte para o usuário qual moeda ele quer converter e para qual moeda destino ele quer converter. Caso alguma das moedas não estejam na lista de conversão, o usuário deve ser informado que essa conversão não é possível. Sendo possível a conversão, o seu conversor de moedas deve em seguida pedir o valor da moeda de origem que ele quer converter para a moeda de destino, fazer a conversão e exibir para o usuário o valor convertido.\n",
    "- Parte 2: Adapte o seu código (crie uma cópia para manter os 2 códigos prontos) para o usuário não precisar dizer qual a moeda original, mas que permita inserir um valor para fazer a conversão com o indicativo da moeda, ex: R$50, US$20 e o sistema fazer a conversão automaticamente."
   ]
  },
  {
   "cell_type": "code",
   "metadata": {
    "ExecuteTime": {
     "end_time": "2025-07-07T04:27:15.499954Z",
     "start_time": "2025-07-07T04:27:15.497210Z"
    }
   },
   "source": [
    "dic_conversoes = {\n",
    "    \"R$-US$\": 0.194,\n",
    "    \"US$-R$\": 5.15,\n",
    "    \"R$-BTC\":  0.000002857,\n",
    "    \"BTC-R$\": 350000,\n",
    "    \"BTC-US$\": 67961.16,\n",
    "    \"US$-BTC\": 0.000014714\n",
    "}"
   ],
   "outputs": [],
   "execution_count": 23
  },
  {
   "cell_type": "code",
   "metadata": {
    "ExecuteTime": {
     "end_time": "2025-07-07T04:29:40.686176Z",
     "start_time": "2025-07-07T04:29:31.768953Z"
    }
   },
   "source": [
    "# Parte 1\n",
    "print(' CONVERSOR DE MOEDAS '.center(50, '='))\n",
    "print('[ R$ - US$ - BTC ]'.center(50))\n",
    "\n",
    "moeda_converter = str(input('Qual moeda converter? ')).strip().upper()\n",
    "moeda_destino = str(input('Para qual moeda? ')).strip().upper()\n",
    "\n",
    "chave = f\"{moeda_converter}-{moeda_destino}\"\n",
    "\n",
    "if chave in dic_conversoes:\n",
    "    taxa = dic_conversoes[chave]\n",
    "    \n",
    "    try:\n",
    "        valor_moeda_converter = float(input('Valor da moeda de origem: '))\n",
    "    except ValueError:\n",
    "        print('Entrada inválida! Digite apenas números (inteiro ou real).')\n",
    "    else:\n",
    "        print('-' * 50)\n",
    "        conversao = valor_moeda_converter * taxa\n",
    "        print(f'Valor convertido: {moeda_converter} {valor_moeda_converter:.2f} -> {moeda_destino} {conversao:.2f}')\n",
    "        \n",
    "else:\n",
    "    print('Moeda inválida para conversão.')\n"
   ],
   "outputs": [
    {
     "name": "stdout",
     "output_type": "stream",
     "text": [
      "============== CONVERSOR DE MOEDAS ===============\n",
      "                [ R$ - US$ - BTC ]                \n",
      "--------------------------------------------------\n",
      "Valor convertido: R$ 50.00 -> US$ 9.70\n"
     ]
    }
   ],
   "execution_count": 27
  },
  {
   "cell_type": "code",
   "metadata": {
    "ExecuteTime": {
     "end_time": "2025-07-07T04:51:41.650045Z",
     "start_time": "2025-07-07T04:51:33.580191Z"
    }
   },
   "source": [
    "# Parte 2\n",
    "import re\n",
    "\n",
    "print(' CONVERSOR DE MOEDAS '.center(50, '='))\n",
    "print('[ R$ - US$ - BTC ]'.center(50))\n",
    "\n",
    "moeda_e_valor_converter = str(input('Qual moeda converter? ')).strip().upper()\n",
    "moeda_destino = str(input('Para qual moeda? ')).strip().upper()\n",
    "\n",
    "moeda_converter = re.match(r'(R\\$|US\\$|BTC)', moeda_e_valor_converter)\n",
    "\n",
    "if moeda_converter:\n",
    "    moeda_converter = moeda_converter.group()\n",
    "else:\n",
    "    print('Moeda de origem inválida.')\n",
    "    exit()\n",
    "    \n",
    "valor_moeda_converter = re.sub(r'[^\\d.,]', '', moeda_e_valor_converter)\n",
    "\n",
    "if valor_moeda_converter:\n",
    "    valor_moeda_converter = float(valor_moeda_converter.replace(',','.'))\n",
    "else:\n",
    "    print('Valor de moeda de origem inválida.')\n",
    "    exit()\n",
    "\n",
    "chave = f\"{moeda_converter}-{moeda_destino}\"\n",
    "\n",
    "if chave in dic_conversoes:\n",
    "    taxa = dic_conversoes[chave]\n",
    "    \n",
    "    print('-' * 50)\n",
    "    conversao = valor_moeda_converter * taxa\n",
    "    print(f'Valor convertido: {moeda_converter} {valor_moeda_converter:.2f} -> {moeda_destino} {conversao:.2f}')\n",
    "        \n",
    "else:\n",
    "    print('Moeda inválida para conversão.')\n"
   ],
   "outputs": [
    {
     "name": "stdout",
     "output_type": "stream",
     "text": [
      "============== CONVERSOR DE MOEDAS ===============\n",
      "                [ R$ - US$ - BTC ]                \n",
      "--------------------------------------------------\n",
      "Valor convertido: R$ 50.00 -> US$ 9.70\n"
     ]
    }
   ],
   "execution_count": 30
  },
  {
   "cell_type": "markdown",
   "metadata": {},
   "source": [
    "### Você está analisando a conta de energia de um pequeno escritório e precisa saber:\n",
    "1. Qual o valor total da conta de energia em cada mês do ano\n",
    "2. Qual o valor total da conta de energia no ano\n",
    "\n",
    "Considere as listas dadas como os 12 meses do ano, tanto para bandeiras quanto para consumo. O valor da conta é dado por: consumo * multiplicador_bandeira * preco_kwh"
   ]
  },
  {
   "cell_type": "code",
   "metadata": {
    "ExecuteTime": {
     "end_time": "2025-07-07T04:54:44.019294Z",
     "start_time": "2025-07-07T04:54:44.015084Z"
    }
   },
   "source": [
    "bandeiras_tarifarias = [\"vermelha\", \"vermelha\", \"amarela\", \"amarela\", \"verde\", \"verde\", \"verde\", \"verde\", \"verde\", \"amarela\", \"amarela\", \"amarela\"]\n",
    "consumo_kwh = [400, 350, 325, 350, 200, 220, 250, 290, 360, 290, 300, 300]\n",
    "preco_kwh = 1.3\n",
    "multiplicador = {\"vermelha\": 2, \"amarela\": 1.3, \"verde\": 1}"
   ],
   "outputs": [],
   "execution_count": 31
  },
  {
   "cell_type": "code",
   "metadata": {
    "ExecuteTime": {
     "end_time": "2025-07-07T04:58:14.819735Z",
     "start_time": "2025-07-07T04:58:14.815887Z"
    }
   },
   "source": [
    "valores_contas_meses = []\n",
    "\n",
    "for i, bandeira in enumerate(bandeiras_tarifarias):\n",
    "    mult = multiplicador[bandeira]\n",
    "    valor_conta = consumo_kwh[i] * mult * preco_kwh\n",
    "    valores_contas_meses.append(valor_conta)\n",
    "print(valores_contas_meses)\n"
   ],
   "outputs": [
    {
     "name": "stdout",
     "output_type": "stream",
     "text": [
      "[1040.0, 910.0, 549.25, 591.5, 260.0, 286.0, 325.0, 377.0, 468.0, 490.1, 507.0, 507.0]\n"
     ]
    }
   ],
   "execution_count": 32
  },
  {
   "cell_type": "markdown",
   "metadata": {},
   "source": [
    "### Você recebeu uma lista de alunos da Arroba Treinamentos e precisa descobrir quantos alunos e quais aluno estão devendo ainda algum pagamento do curso. O curso custa 2.000 reais e os pagamentos dos alunos são representados por uma lista de valores já pagos no dicionário de alunos\n"
   ]
  },
  {
   "cell_type": "code",
   "metadata": {
    "ExecuteTime": {
     "end_time": "2025-07-07T05:00:55.943862Z",
     "start_time": "2025-07-07T05:00:55.939729Z"
    }
   },
   "source": [
    "pagamentos_alunos = {\n",
    "    \"André\": [2000],\n",
    "    \"Fulano\": [1000, 1000],\n",
    "    \"Ciclano\": [500, 500],\n",
    "    \"Beltrano\": [100], \n",
    "    \"João\": [100, 100, 100, 100, 100, 100, 100, 100, 100, 100, 100],\n",
    "    \"Amanda\": [200, 300, 250, 250, 500, 400, 100],\n",
    "    \"Lira\": [1000],\n",
    "    \"Alon\": [10]\n",
    "}\n"
   ],
   "outputs": [],
   "execution_count": 34
  },
  {
   "cell_type": "code",
   "metadata": {
    "ExecuteTime": {
     "end_time": "2025-07-07T05:00:57.259257Z",
     "start_time": "2025-07-07T05:00:57.255745Z"
    }
   },
   "source": [
    "alunos_devendo = [aluno for aluno, valor in pagamentos_alunos.items() if sum(valor) < 2000]\n",
    "\n",
    "print(f'Quantidade de alunos devendo: {len(alunos_devendo)}.')\n"
   ],
   "outputs": [
    {
     "name": "stdout",
     "output_type": "stream",
     "text": [
      "Quantidade de alunos devendo: 5.\n"
     ]
    }
   ],
   "execution_count": 35
  },
  {
   "cell_type": "markdown",
   "metadata": {},
   "source": [
    "### Password Checker\n",
    "- Pessa para o usuário um input com a senha e um input com a confirmação de senha (aprenderemos no módulo de criação de telas com Python a fazer isso em um sistema bonito, mas para esse exercício faremos com inputs isso)\n",
    "- Para validar a senha, verifique que:\n",
    "    - A senha e confirmação são iguais\n",
    "    - A senha possua mais de 8 caracteres\n",
    "    - A senha tenha letras e números"
   ]
  },
  {
   "cell_type": "code",
   "metadata": {
    "ExecuteTime": {
     "end_time": "2025-07-08T04:18:25.218230Z",
     "start_time": "2025-07-08T04:18:17.958007Z"
    }
   },
   "source": [
    "import re\n",
    "\n",
    "def validar_entrada(sen):\n",
    "    padrao = r'^(?=.*[A-za-z])(?=.*\\d)[A-Za-z\\d]{9,}$'\n",
    "    return bool(re.match(padrao, sen))\n",
    "    \n",
    "def validar_senha(sen, confirmacao):\n",
    "    if confirmacao == sen:\n",
    "       return True\n",
    "        \n",
    "        \n",
    "senha = str(input('Senha: ')).strip()\n",
    "\n",
    "if validar_entrada(senha):\n",
    "    senha_confirmacao = str(input('Confirmação de senha: ')).strip()\n",
    "    \n",
    "    if validar_entrada(senha_confirmacao):\n",
    "        if validar_senha(senha, senha_confirmacao):\n",
    "            print('Senha válida!')\n",
    "        else:\n",
    "            print('Senha inválida!')\n",
    "    else:\n",
    "        print('Entrada inválida! A sua senha deve conter letras e números, com mais de 8 digitos.')\n",
    "else:\n",
    "    print('Entrada inválida! A sua senha deve conter letras e números, com mais de 8 digitos.')\n"
   ],
   "outputs": [
    {
     "name": "stdout",
     "output_type": "stream",
     "text": [
      "Senha válida!\n"
     ]
    }
   ],
   "execution_count": 14
  },
  {
   "cell_type": "markdown",
   "metadata": {},
   "source": [
    "### Você precisa criar a lógica de um sistema de load balance/redirecionamento automático. Seu programa deve receber um input que representa quantas requisições um sistema vai receber. Para cada requisição, seu sistema deve decidir em qual destino atribuir a requisição, destino A, B ou C. A regra de distribuição é: a primeira requisição é atribuída ao destino A, a segunda ao B, a terceira ao C, a quarta ao A, a quinta ao B, a sexta ao C, a sétima ao A, a oitava ao B, a nona ao C… e assim vai até o total de requisições. Ao final do programa, você deve calcular quais requisições foram para cada destino e quantas são. Ex: se o sistema deveria receber 80 requisições, no final seu código tem q dizer: destino A recebeu 27 requisições, destino B recebeu 27 requisições e destino C recebeu 26 requisicoes e a lista de requisições de cada destino: listaA = [1, 4, 7, 10, 13...], listaB = [2, 5, 8, 11, 14, ...], listaC = [3, 6, 9, 12, 15, 18, 21, ...].\n"
   ]
  },
  {
   "cell_type": "code",
   "metadata": {
    "ExecuteTime": {
     "end_time": "2025-07-08T04:57:22.556072Z",
     "start_time": "2025-07-08T04:57:20.380242Z"
    }
   },
   "source": [
    "try:\n",
    "    qtd_requisicoes = int(input('Quantidade de requisições: '))\n",
    "except ValueError:\n",
    "    print('Entrada inválida! Digite apenas números inteiros.')\n",
    "else:\n",
    "    print(' REQUISIÇÕES '.center(50, '='))\n",
    "    lista_A = [i for i in range(1, qtd_requisicoes, 3)]\n",
    "    print(f'Lista A recebeu {len(lista_A)} requisições.')\n",
    "    \n",
    "    lista_B = [i for i in range(2, qtd_requisicoes, 3)]\n",
    "    print(f'Lista B recebeu {len(lista_B)} requisições.')\n",
    "    \n",
    "    lista_C = [i for i in range(3, qtd_requisicoes, 3)]\n",
    "    print(f'Lista C recebeu {len(lista_C)} requisições.\\n')\n",
    "    \n",
    "    print(' LISTAS '.center(50, '='))\n",
    "    print(f'Lista A: {lista_A}')\n",
    "    print(f'Lista B: {lista_B}')\n",
    "    print(f'Lista C: {lista_C}')       \n"
   ],
   "outputs": [
    {
     "name": "stdout",
     "output_type": "stream",
     "text": [
      "================== REQUISIÇÕES ===================\n",
      "Lista A recebeu 27 requisições.\n",
      "Lista B recebeu 26 requisições.\n",
      "Lista C recebeu 26 requisições.\n",
      "\n",
      "===================== LISTAS =====================\n",
      "Lista A: [1, 4, 7, 10, 13, 16, 19, 22, 25, 28, 31, 34, 37, 40, 43, 46, 49, 52, 55, 58, 61, 64, 67, 70, 73, 76, 79]\n",
      "Lista B: [2, 5, 8, 11, 14, 17, 20, 23, 26, 29, 32, 35, 38, 41, 44, 47, 50, 53, 56, 59, 62, 65, 68, 71, 74, 77]\n",
      "Lista C: [3, 6, 9, 12, 15, 18, 21, 24, 27, 30, 33, 36, 39, 42, 45, 48, 51, 54, 57, 60, 63, 66, 69, 72, 75, 78]\n"
     ]
    }
   ],
   "execution_count": 29
  },
  {
   "cell_type": "markdown",
   "metadata": {},
   "source": [
    "### ChatBot de Recomendações de Viagens\n",
    "- Você trabalha em uma agência de viagens e precisa criar um chatbot para os seus clientes. Esse chatbot deve pedir para o usuario escolher um mês de viagem. Em seguida, seu chatbot deve perguntar para qual lugar o usuário deseja viajar. Caso o local escolhido pelo usuário esteja na lista de bons lugares para viajar naquele mês, o seu chatbot deve dizer que é um ótimo lugar para viajar nesse mês. Caso o local não esteja na lista de bons locais daquele mês, seu chatbot deve:\n",
    "    1. Dizer para ele quais lugares são bons para viajar nesse mês\n",
    "    2. Verificar no resto dos meses se o local que o usuário quer viajar está em algum outro mês. Se tiver, seu programa deve dizer para ele qual o melhor mês para viajar para o local desejado pelo cliente."
   ]
  },
  {
   "cell_type": "code",
   "metadata": {
    "ExecuteTime": {
     "end_time": "2025-07-08T05:47:54.388255Z",
     "start_time": "2025-07-08T05:47:35.607282Z"
    }
   },
   "source": [
    "import re\n",
    "\n",
    "viagens_mensais = {\n",
    "    \"jan\": [\"Tailândia\", \"Brasil\", \"Antártica\", \"África do Sul\", \"Argentina\"],\n",
    "    \"fev\": [\"Tailândia\", \"Brasil\", \"Argentina\", \"Uruguai\", \"África do Sul\"],\n",
    "    \"mar\": [\"Brasil\", \"Marrocos\", \"EUA\", \"Egito\", \"Dubai\"],\n",
    "    \"abr\": [\"Brasil\", \"Marrocos\", \"Egito\", \"Dubai\", \"Equador\"],\n",
    "    \"mai\": [\"Brasil\", \"EUA\", \"Itália\", \"França\", \"Inglaterra\"],\n",
    "    \"jun\": [\"Brasil\", \"Itália\", \"França\", \"Grécia\", \"Turquia\"],\n",
    "    \"jul\": [\"Brasil\", \"Itália\", \"França\", \"Grécia\", \"Turquia\"],\n",
    "    \"ago\": [\"Brasil\", \"Itália\", \"França\", \"Grécia\", \"Turquia\"],\n",
    "    \"set\": [\"Brasil\", \"Croácia\", \"Grécia\", \"México\", \"Alemanha\"],\n",
    "    \"out\": [\"Brasil\", \"Alemanha\", \"Japão\", \"Chile\", \"Indonésia\"],\n",
    "    \"nov\": [\"Brasil\", \"México\", \"Costa Rica\", \"Barbados\", \"Colômbia\"],\n",
    "    \"dez\": [\"Tailândia\", \"México\", \"Costa Rica\", \"Barbados\", \"Colômbia\"]\n",
    "}\n",
    "\n",
    "mes_viagem = str(input('Mês de viagem: ')).strip().casefold()\n",
    "\n",
    "if re.fullmatch(r'(jan|fev|mar|abr|mai|jun|jul|ago|set|out|nov|dez)', mes_viagem):\n",
    "    lugar_viajar = str(input('Lugar para viajar: ')).strip()\n",
    "    \n",
    "    if re.match(r'^[A-Za-zÀ-ÿ\\s\\-]+$', lugar_viajar):\n",
    "        print('-' * 50)\n",
    "        \n",
    "        if any(lugar.casefold() == lugar_viajar.casefold() for lugar in viagens_mensais[mes_viagem]):\n",
    "            print(f'{lugar_viajar} é um bom lugar para viajar em {mes_viagem}.')\n",
    "        else:\n",
    "            print(f'{lugar_viajar} não encontrado em {mes_viagem}.')\n",
    "            print(f'Bons lugares para viajar em {mes_viagem}:\\n {viagens_mensais[mes_viagem]}')\n",
    "            print(f'Melhor(es) mês(es) para viajar para o(a) {lugar_viajar}:')\n",
    "            \n",
    "            encontrado = False\n",
    "            for mes, lugares in viagens_mensais.items():\n",
    "                if any(lugar.casefold() == lugar_viajar.casefold() for lugar in lugares):\n",
    "                    print(mes)    \n",
    "                    encontrado = True\n",
    "            if not encontrado:\n",
    "                print(' Nenhum mês encontrado.')\n",
    "    else:\n",
    "        print('Entrada inválida! Não digite números.')\n",
    "else:\n",
    "    print('Mês inválido!')\n",
    "\n"
   ],
   "outputs": [
    {
     "name": "stdout",
     "output_type": "stream",
     "text": [
      "--------------------------------------------------\n",
      "Argentina não encontrado em mar.\n",
      "Bons lugares para viajar em mar:\n",
      " ['Brasil', 'Marrocos', 'EUA', 'Egito', 'Dubai']\n",
      "Melhor(es) mês(es) para viajar para o(a) Argentina:\n",
      "jan\n",
      "fev\n"
     ]
    }
   ],
   "execution_count": 43
  },
  {
   "cell_type": "markdown",
   "metadata": {},
   "source": [
    "### Password Manager com dicionário sendo o Banco de Dados\n",
    "\n",
    "- Seu desafio é criar um gerenciador de senhas (usando um dicionário python como banco de dados, mais para frente no curso no modulo de banco de dados você será capaz de armazenar essas senhas em um banco de dados de forma definitiva e mais protegida)\n",
    "    - Seu programa deve perguntar para o usuário se ele quer cadastrar uma senha nova ou pegar uma senha existente. Independente da operação ele deve usar uma senha mestre: \"uh&g7fnsd8\" para aprovar qualquer consulta/edição no sistema. Se o usuário quiser adicionar uma senha, deve pedir qual o nome do sistema de onde essa senha faz parte, qual o login e qual a senha a ser cadastrada. Se for para consultar, seu programa deve exibir os nomes dos sistemas disponíveis e o usuário pode escolher qual senha quer pedir e seu programa deve dar para ela a resposta de login e senha. Se quiser que as suas senhas cadastradas possam ser usadas para consulta, coloque tudo em um loop infinito e dê algum comando para o usuário conseguir finalizar o processo"
   ]
  },
  {
   "metadata": {
    "ExecuteTime": {
     "end_time": "2025-07-08T17:53:37.400550Z",
     "start_time": "2025-07-08T17:53:29.898274Z"
    }
   },
   "cell_type": "code",
   "source": [
    "import re\n",
    "\n",
    "def validar_senha(senha):\n",
    "    padrao = r'^[A-Za-z0-9!@#$%&*()_\\-+={}\\[\\]^<>,.:;?\\\\]+$'\n",
    "    return bool(re.match(padrao, senha))\n",
    "\n",
    "\n",
    "gerenciador_senhas = {\n",
    "    \"Gmail\": (\"lira@emailfalso.com\", \"minhasenha123\"),\n",
    "    \"Github\": (\"pythonimpressionador\", \"senhadoida\"),\n",
    "    \"Cartão de Crédito\": (\"NumeroFalsodoCartao\", \"123456\"),\n",
    "    \"Portal Hashtag\": (\"usuario@gmail.com\", \"123456\")\n",
    "}\n",
    "senha_mestre = 'uh&g7fbsd8'\n",
    "\n",
    "\n",
    "while True:\n",
    "    print('=' * 50)\n",
    "    print(' GERENCIADOR DE SENHAS '.center(50))\n",
    "    print('=' * 50)\n",
    "    print(\"\"\"Opções:\n",
    "     [ 0 ] Encerrar Programa\n",
    "     [ 1 ] Cadastrar Senha Nova\n",
    "     [ 2 ] Pegar senha Existente\"\"\")\n",
    "    print('-' * 50)\n",
    "    \n",
    "    try:\n",
    "        escolha = int(input('-> '))\n",
    "    except ValueError:\n",
    "        print('Entrada inválida! Digite apenas números inteiros.')\n",
    "        continue\n",
    "    else:\n",
    "        if escolha in [0, 1, 2]:\n",
    "            if escolha == 0:\n",
    "                break\n",
    "                \n",
    "            acesso = str(input('Senha mestra: ')).strip()\n",
    "            \n",
    "            if validar_senha(acesso):\n",
    "                if acesso == senha_mestre:\n",
    "                    if escolha == 1:\n",
    "                        print(' CADASTRAR NOVA SENHA '.center(50, '='))\n",
    "                        sistema = str(input('Nome do sistema: ')).strip()\n",
    "                      \n",
    "                        if re.match(r'^[A-Za-zÀ-ÿ\\s]+$', sistema):\n",
    "                            login = str(input('Login: ')).strip()\n",
    "                            \n",
    "                            if re.match(r'^[A-Z-a-z0-9@_\\-.]+$', login):\n",
    "                                senha_cadastrar = str(input('Senha: ')).strip()\n",
    "                                \n",
    "                                if validar_senha(senha_cadastrar):\n",
    "                                    gerenciador_senhas[sistema] = (login, senha_cadastrar)\n",
    "                                else:\n",
    "                                    print('Senha inválida para cadastro.')\n",
    "                                    continue\n",
    "                            else:\n",
    "                                print('Entrada inválida!')\n",
    "                                continue\n",
    "                        else:\n",
    "                            print('Entrada inválida! Não digite números.')\n",
    "                            continue\n",
    "                    if escolha == 2:\n",
    "                        print(' PEGAR SENHA EXISTENTE '.center(50, '='))\n",
    "                        print('Sistemas disponíveis:')\n",
    "                        for sist, acess in gerenciador_senhas.items():\n",
    "                            print(f' - {sist}')                            \n",
    "                        print('-' * 50)\n",
    "                        \n",
    "                        sistema = str(input('-> ')).strip()\n",
    "                        \n",
    "                        print('-' * 50)\n",
    "                        if re.match(r'^[A-Za-zÀ-ÿ\\s]+$', sistema):\n",
    "                            if sistema in gerenciador_senhas.keys():\n",
    "                                print(f'Login: {gerenciador_senhas[sistema][0]}')\n",
    "                                print(f'Senha: {gerenciador_senhas[sistema][1]}')\n",
    "                            else:\n",
    "                                print('Sistema não encontrado.')\n",
    "                                continue\n",
    "                        else:\n",
    "                            print('Entrada inválida! Não digite números.')\n",
    "                            continue\n",
    "                else:\n",
    "                    print('Senha de acesso inváldia!')\n",
    "                    continue\n",
    "            else:\n",
    "                print('Entrada inválida! Digite a senha adequadamente.')\n",
    "                continue\n",
    "        else:\n",
    "            print('Opção inválida! Digite apenas 0 ou 1 ou 2.')\n",
    "            continue\n",
    "print('=' * 50)\n",
    "print(' PROGRAMA ENCERRADO '.center(50))\n",
    "print('=' * 50)\n",
    "\n"
   ],
   "outputs": [
    {
     "name": "stdout",
     "output_type": "stream",
     "text": [
      "==================================================\n",
      "              GERENCIADOR DE SENHAS               \n",
      "==================================================\n",
      "Opções:\n",
      "     [ 0 ] Encerrar Programa\n",
      "     [ 1 ] Cadastrar Senha Nova\n",
      "     [ 2 ] Pegar senha Existente\n",
      "--------------------------------------------------\n",
      "==================================================\n",
      "                PROGRAMA ENCERRADO                \n",
      "==================================================\n"
     ]
    }
   ],
   "execution_count": 39
  },
  {
   "metadata": {},
   "cell_type": "markdown",
   "source": [
    "### Extrator de data em email\n",
    "\n",
    "- Crie um código que consiga extrair a data escrita em um email no formato DIA/MES/ANO. Essa data pode estar com diferentes quantidades de dígitos para cada informação de DIA/MES/ANO. Ex: 01/05/2024 = 1/5/24\n",
    "- Mais para frente no curso vamos aprender regex que facilita esse tipo de extração, por enquanto, para esse exercício pode considerar que apenas 1 data será incluída no email e que não será usado mais a / em outros locais do email"
   ]
  },
  {
   "cell_type": "code",
   "metadata": {
    "ExecuteTime": {
     "end_time": "2025-07-09T00:12:38.423464Z",
     "start_time": "2025-07-09T00:12:38.412982Z"
    }
   },
   "source": [
    "texto_email = \"\"\"Prezados,\n",
    "Segue em anexo contrato para aprovação e assinatura até o dia 10/12/2025\n",
    "Favor se atentar ao prazo de conclusão para evitar o cancelamento do serviço.\n",
    "Att.,\n",
    "Fulano Beltrano\"\"\""
   ],
   "outputs": [],
   "execution_count": 40
  },
  {
   "metadata": {
    "ExecuteTime": {
     "end_time": "2025-07-09T00:20:32.201822Z",
     "start_time": "2025-07-09T00:20:32.130547Z"
    }
   },
   "cell_type": "code",
   "source": [
    "import re\n",
    "\n",
    "datas = re.findall(r'\\b\\d{1,2}/\\d{1,2}/\\d{2,4}\\b', texto_email)\n",
    "\n",
    "print(datas)\n",
    "\n"
   ],
   "outputs": [
    {
     "name": "stdout",
     "output_type": "stream",
     "text": [
      "['10/12/2025']\n"
     ]
    }
   ],
   "execution_count": 42
  },
  {
   "metadata": {},
   "cell_type": "markdown",
   "source": [
    "### Extrator de contato em email\n",
    "\n",
    "- Crie um código que consiga extrair um endereço de e-mail de um texto.\n",
    "- Mais para frente no curso vamos aprender regex que facilita esse tipo de extração, por enquanto, para esse exercício pode considerar que apenas 1 email será incluída no texto e o @ não será usado em outros locais."
   ]
  },
  {
   "cell_type": "code",
   "metadata": {
    "ExecuteTime": {
     "end_time": "2025-07-09T00:21:03.312196Z",
     "start_time": "2025-07-09T00:21:03.262442Z"
    }
   },
   "source": [
    "texto_email = \"\"\"Prezados,\n",
    "Favor encaminhar documentação para o email qualquercoisa@gmail.com\n",
    "Obrigado\"\"\""
   ],
   "outputs": [],
   "execution_count": 43
  },
  {
   "cell_type": "code",
   "metadata": {
    "ExecuteTime": {
     "end_time": "2025-07-09T00:26:34.188460Z",
     "start_time": "2025-07-09T00:26:34.184252Z"
    }
   },
   "source": [
    "import re\n",
    "\n",
    "email = re.findall(r'\\b[a-zA-Z0-9._%+-]+@(?:gmail|hotmail)\\.com\\b', texto_email)\n",
    "\n",
    "print(email)\n",
    "\n"
   ],
   "outputs": [
    {
     "name": "stdout",
     "output_type": "stream",
     "text": [
      "['qualquercoisa@gmail.com']\n"
     ]
    }
   ],
   "execution_count": 50
  },
  {
   "cell_type": "markdown",
   "metadata": {},
   "source": [
    "### Dado um dicionário com a temperatura em várias cidades, máximas e mínimas estimadas e máximas e mínimas reais, veja em quantas cidades a previsão do tempo acertou e em quantas errou.\n",
    "\n",
    "Considere que a previsão erra se a mínima real for menor do que a mínima estimada OU se a máxima real for maior do que a máxima estimada. Se os valores reais estiverem dentro da faixa estimada, mesmo que os valores não sejam iguais, é considerado que a previsão acertou.\n",
    "\n",
    "Ex: <br>\n",
    "Mínima Estimada: 20, Máxima Estimada: 25, Mínima Real: 21, Máxima Real: 25 -> acertou<br>\n",
    "Mínima Estimada: 20, Máxima Estimada: 25, Mínima Real: 19, Máxima Real: 25 -> errou<br>\n",
    "Mínima Estimada: 20, Máxima Estimada: 25, Mínima Real: 23, Máxima Real: 24 -> acertou<br>\n",
    "Mínima Estimada: 20, Máxima Estimada: 25, Mínima Real: 19, Máxima Real: 28 -> errou<br>\n",
    "\n",
    "formato:\n",
    "(minima_estimada, maxima_estimada, minima_real, maxima_real)"
   ]
  },
  {
   "cell_type": "code",
   "metadata": {
    "ExecuteTime": {
     "end_time": "2025-07-09T00:32:42.508451Z",
     "start_time": "2025-07-09T00:32:42.497217Z"
    }
   },
   "source": [
    "dic_temperaturas = {\n",
    "    \"São Paulo\": (15, 23, 16, 22),\n",
    "    \"Rio de Janeiro\": (21, 25, 20, 25),\n",
    "    \"Belo Horizonte\": (19, 22, 19, 22),\n",
    "    \"Brasília\": (23, 25, 19, 21),\n",
    "    \"Porto Alegre\": (13, 19, 14, 18),\n",
    "    \"Natal\": (25, 28, 24, 28),\n",
    "    \"Salvador\": (22, 29, 23, 30),\n",
    "    \"Manaus\": (23, 27, 23, 26),\n",
    "}"
   ],
   "outputs": [],
   "execution_count": 51
  },
  {
   "cell_type": "code",
   "metadata": {
    "ExecuteTime": {
     "end_time": "2025-07-09T00:40:54.004717Z",
     "start_time": "2025-07-09T00:40:54.000642Z"
    }
   },
   "source": [
    "for cidade, temperaturas in dic_temperaturas.items():\n",
    "    min_estimada, max_estimada, min_real, max_real = temperaturas\n",
    "    \n",
    "    print(f'{cidade} - Mínima Estimada: {min_estimada}, Máxima Estimada: {max_estimada}, Mínima Real: {min_real}, Máxima Real: {max_real} ', sep = '')\n",
    "    \n",
    "    if min_real>= min_estimada and max_real <= max_estimada:\n",
    "        print('-> acertou')\n",
    "    else:\n",
    "        print('-> errou')\n",
    "\n"
   ],
   "outputs": [
    {
     "name": "stdout",
     "output_type": "stream",
     "text": [
      "São Paulo - Mínima Estimada: 15, Máxima Estimada: 23, Mínima Real: 16, Máxima Real: 22 \n",
      "-> acertou\n",
      "Rio de Janeiro - Mínima Estimada: 21, Máxima Estimada: 25, Mínima Real: 20, Máxima Real: 25 \n",
      "-> errou\n",
      "Belo Horizonte - Mínima Estimada: 19, Máxima Estimada: 22, Mínima Real: 19, Máxima Real: 22 \n",
      "-> acertou\n",
      "Brasília - Mínima Estimada: 23, Máxima Estimada: 25, Mínima Real: 19, Máxima Real: 21 \n",
      "-> errou\n",
      "Porto Alegre - Mínima Estimada: 13, Máxima Estimada: 19, Mínima Real: 14, Máxima Real: 18 \n",
      "-> acertou\n",
      "Natal - Mínima Estimada: 25, Máxima Estimada: 28, Mínima Real: 24, Máxima Real: 28 \n",
      "-> errou\n",
      "Salvador - Mínima Estimada: 22, Máxima Estimada: 29, Mínima Real: 23, Máxima Real: 30 \n",
      "-> errou\n",
      "Manaus - Mínima Estimada: 23, Máxima Estimada: 27, Mínima Real: 23, Máxima Real: 26 \n",
      "-> acertou\n"
     ]
    }
   ],
   "execution_count": 53
  },
  {
   "cell_type": "markdown",
   "metadata": {},
   "source": [
    "### Você trabalha em uma montadora de veículos com 32 distribuidores e a meta da sua empresa era produzir e entregar 50.000 veículos no ano. Essa meta foi batida, com folga. Seu chefe então se questionou: se a gente tivesse 31 distribuidoras, ainda assim a gente teria batido a meta? E se a gente tivesse 30? E 29?\n",
    "\n",
    "Seu objetivo então é descobrir qual o menor número de distribuidores que teria permitido a sua empresa a ter batido essa meta de 50.000 veiculos produzidos e entregues no ano."
   ]
  },
  {
   "cell_type": "code",
   "metadata": {
    "ExecuteTime": {
     "end_time": "2025-07-09T00:55:27.415847Z",
     "start_time": "2025-07-09T00:55:27.375319Z"
    }
   },
   "source": [
    "entregas_distribuidores = [5000, 4000, 3900, 3900, 3800, 3200, 3000, 3000, 3000, 3000, 2950, 2950, 2900, 2900, 2900, 2900, 2900, 2900, 2900, 2900, 2900, 2900, 2900, 2900, 2900, 2900, 2900, 2900, 2900, 2900, 2900, 2900]\n",
    "\n",
    "print(' ANTES '.center(40, '='))\n",
    "print(f' Quantidade de distribuidoras: {len(entregas_distribuidores)}')\n",
    "print(f' Soma de Veículos: {sum(entregas_distribuidores)}\\n')\n",
    "\n",
    "while sum(entregas_distribuidores) > 50000:\n",
    "    dist_removido = entregas_distribuidores.pop(entregas_distribuidores.index(max(entregas_distribuidores)))\n",
    "\n",
    "if sum(entregas_distribuidores) < 50000:\n",
    "    entregas_distribuidores.append(dist_removido)\n",
    "    \n",
    "\n",
    "print(' DEPOIS '.center(40, '='))\n",
    "print(f' Quantidade de distribuidoras: {len(entregas_distribuidores)}')\n",
    "print(f' Soma de Veículos: {sum(entregas_distribuidores)}')\n"
   ],
   "outputs": [
    {
     "name": "stdout",
     "output_type": "stream",
     "text": [
      "================ ANTES =================\n",
      " Quantidade de distribuidoras: 32\n",
      " Soma de Veículos: 99700\n",
      "\n",
      "================ DEPOIS ================\n",
      " Quantidade de distribuidoras: 18\n",
      " Soma de Veículos: 52200\n"
     ]
    }
   ],
   "execution_count": 70
  },
  {
   "cell_type": "markdown",
   "metadata": {},
   "source": [
    "### Um dos princípios mais importantes nas empresas é o princípio 80/20. No geral, 20% das ações que uma empresa faz geram 80% dos resultados. Isso tanto para receita, quanto para custos, etc. Você está analisando uma empresa de bebidas. Tendo isso em mente, queremos descobrir quais as linhas de custos que representam 80% do total gasto da empresa. Para isso, calcule quanto percentualmente cada custo representa do custo total da empresa e crie um ranking decrescente baseado nesse percentual "
   ]
  },
  {
   "cell_type": "code",
   "metadata": {
    "ExecuteTime": {
     "end_time": "2025-07-09T01:01:38.950519Z",
     "start_time": "2025-07-09T01:01:38.947197Z"
    }
   },
   "source": [
    "custos = [\n",
    "    (10131.7, \"Custo Mercadorias Vendidas\"),\n",
    "    (2916, \"Logística\"),\n",
    "    (1741, \"Despesas Comerciais\"),\n",
    "    (1305, \"Despesas administrativas\"),\n",
    "    (28, \"Outros Itens\"),\n",
    "    (997, \"Juros e Resultado Financeiro\"),\n",
    "    (14, \"Participações em outros Empreendimentos\"),\n",
    "    (58, \"Impostos\")\n",
    "]"
   ],
   "outputs": [],
   "execution_count": 72
  },
  {
   "cell_type": "code",
   "metadata": {
    "ExecuteTime": {
     "end_time": "2025-07-09T01:18:07.131171Z",
     "start_time": "2025-07-09T01:18:07.126826Z"
    }
   },
   "source": [
    "percentuais = {}\n",
    "tot_soma = 0\n",
    "tot_soma += sum(tipo_gasto[0] for tipo_gasto in custos)\n",
    "\n",
    "print(' LINHA | PERCENTUAL '.center(50, '='))\n",
    "for linha_custo in custos:\n",
    "    percentuais[linha_custo[1]] = (linha_custo[0] / tot_soma) * 100\n",
    "    percentuais = dict(sorted(percentuais.items(), key=lambda item: item[1], reverse=True))\n",
    "    \n",
    "for linha, porcentagem in percentuais.items():\n",
    "    print(f' {linha}: {porcentagem:.1f}%')\n",
    "    \n"
   ],
   "outputs": [
    {
     "name": "stdout",
     "output_type": "stream",
     "text": [
      "=============== LINHA | PERCENTUAL ===============\n",
      " Custo Mercadorias Vendidas: 58.9%\n",
      " Logística: 17.0%\n",
      " Despesas Comerciais: 10.1%\n",
      " Despesas administrativas: 7.6%\n",
      " Juros e Resultado Financeiro: 5.8%\n",
      " Impostos: 0.3%\n",
      " Outros Itens: 0.2%\n",
      " Participações em outros Empreendimentos: 0.1%\n"
     ]
    }
   ],
   "execution_count": 90
  },
  {
   "cell_type": "markdown",
   "metadata": {},
   "source": [
    "### Você trabalha em uma empresa que possui várias franquias. Queremos saber quais as franquias que têm maior número de funcionários e quais dessas, juntas, representam 80% dos funcionários da rede toda."
   ]
  },
  {
   "cell_type": "code",
   "metadata": {
    "ExecuteTime": {
     "end_time": "2025-07-09T01:19:22.020096Z",
     "start_time": "2025-07-09T01:19:22.016532Z"
    }
   },
   "source": [
    "franquias = [\n",
    "    (25000, \"Loja A\"),\n",
    "    (10000, \"Loja B\"),\n",
    "    (500, \"Loja C\"),\n",
    "    (25000, \"Loja D\"),\n",
    "    (1200, \"Loja E\"),\n",
    "    (400, \"Loja F\"),\n",
    "    (200, \"Loja G\"),\n",
    "    (15, \"Loja H\"),\n",
    "    (200, \"Loja I\"),\n",
    "    (15, \"Loja J\"),\n",
    "    (200, \"Loja K\"),\n",
    "    (15, \"Loja L\"),\n",
    "    (200, \"Loja M\"),\n",
    "    (15, \"Loja N\"),\n",
    "]\n"
   ],
   "outputs": [],
   "execution_count": 91
  },
  {
   "metadata": {
    "ExecuteTime": {
     "end_time": "2025-07-09T02:21:28.656522Z",
     "start_time": "2025-07-09T02:21:28.651580Z"
    }
   },
   "cell_type": "code",
   "source": [
    "dic_franquias = {franquia[1]: [franquia[0]] for franquia in franquias}\n",
    "dic_franquias = dict(sorted(dic_franquias.items(), key=lambda item: item[1], reverse=True))\n",
    "\n",
    "total = sum(valor[0] for valor in dic_franquias.values())\n",
    "soma_perc = 0\n",
    "\n",
    "for franquia in dic_franquias:\n",
    "    funcionarios = dic_franquias[franquia][0]\n",
    "    percentual = (funcionarios / total) * 100\n",
    "    dic_franquias[franquia].append(percentual)\n",
    "\n",
    "chaves = list(dic_franquias.keys())\n",
    "valores = list(dic_franquias.values())\n",
    "\n",
    "print(' TOP 20% '.center(40, '='))\n",
    "for i in range(int(len(dic_franquias) * 0.20)):\n",
    "    franquia = chaves[i]\n",
    "    funcs, perc = valores[i]\n",
    "    print(f' {franquia}: {funcs} -> {perc:.2f}%')\n",
    "\n",
    "print(' FRANQUIAS - 80% '.center(40, '='))\n",
    "for i in range(3):\n",
    "    franquia = chaves[i]\n",
    "    funcs, perc = valores[i]\n",
    "    soma_perc += perc\n",
    "    \n",
    "    if soma_perc >= 80:\n",
    "        break\n",
    "    else:\n",
    "        print(f' - {franquia}')\n",
    "\n",
    "\n"
   ],
   "outputs": [
    {
     "name": "stdout",
     "output_type": "stream",
     "text": [
      "=============== TOP 20% ================\n",
      " Loja A: 25000 -> 39.71%\n",
      " Loja D: 25000 -> 39.71%\n",
      "=========== FRANQUIAS - 80% ============\n",
      " - Loja A\n",
      " - Loja D\n"
     ]
    }
   ],
   "execution_count": 142
  },
  {
   "cell_type": "markdown",
   "metadata": {},
   "source": [
    "### Desafio (esse exercício é mais difícil mesmo)\n",
    "### Com o PIB de 2022 e de 2021 de cada estado brasileiro, descubra: qual o maior PIB, menor PIB, média do PIB, PIB total em cada ano e qual estado mais cresceu o PIB percentualmente e em valores absolutos de um ano pro outro"
   ]
  },
  {
   "cell_type": "code",
   "metadata": {
    "ExecuteTime": {
     "end_time": "2025-07-10T04:33:44.396238Z",
     "start_time": "2025-07-10T04:33:44.390042Z"
    }
   },
   "source": [
    "pib_2022 = {\n",
    "    \"Acre\": 21374,\n",
    "    \"Alagoas\": 76266,\n",
    "    \"Amapá\": 20100,\n",
    "    \"Amazonas\": 131531,\n",
    "    \"Bahia\": 352618,\n",
    "    \"Ceará\": 194885,\n",
    "    \"Distrito Federal\": 286944,\n",
    "    \"Espírito Santo\": 186337,\n",
    "    \"Goiás\": 269628,\n",
    "    \"Maranhão\": 124981,\n",
    "    \"Mato Grosso\": 233390,\n",
    "    \"Mato Grosso do Sul\": 142204,\n",
    "    \"Minas Gerais\": 857593,\n",
    "    \"Paraná\": 549973,\n",
    "    \"Paraíba\": 77470,\n",
    "    \"Pará\": 262905,\n",
    "    \"Pernambuco\": 220814,\n",
    "    \"Piauí\": 64028,\n",
    "    \"Rio de Janeiro\": 949301,\n",
    "    \"Rio Grande do Norte\": 80181,\n",
    "    \"Rio Grande do Sul\": 581284,\n",
    "    \"Rondônia\": 58170,\n",
    "    \"Roraima\": 18203,\n",
    "    \"Santa Catarina\": 428571,\n",
    "    \"Sergipe\": 51861,\n",
    "    \"São Paulo\": 2719751,\n",
    "    \"Tocantins\": 51781\n",
    "}\n",
    "\n",
    "pib_2021 = {\n",
    "    \"Acre\": 16476,\n",
    "    \"Alagoas\": 63202,\n",
    "    \"Amapá\": 18469,\n",
    "    \"Amazonas\": 116019,\n",
    "    \"Bahia\": 305321,\n",
    "    \"Ceará\": 166915,\n",
    "    \"Distrito Federal\": 265847,\n",
    "    \"Espírito Santo\": 138446,\n",
    "    \"Goiás\": 224126,\n",
    "    \"Maranhão\": 106916,\n",
    "    \"Mato Grosso\": 178650,\n",
    "    \"Mato Grosso do Sul\": 122628,\n",
    "    \"Minas Gerais\": 682786, \n",
    "    \"Paraná\": 487931,\n",
    "    \"Paraíba\": 70292,\n",
    "    \"Pará\": 215936,\n",
    "    \"Pernambuco\": 193307,\n",
    "    \"Piauí\": 56391,\n",
    "    \"Rio de Janeiro\": 753824,\n",
    "    \"Rio Grande do Norte\": 71577,\n",
    "    \"Rio Grande do Sul\": 470942, \n",
    "    \"Rondônia\": 51599,\n",
    "    \"Roraima\": 16024,\n",
    "    \"Santa Catarina\": 349275,\n",
    "    \"Sergipe\": 45410,\n",
    "    \"São Paulo\": 2377639,\n",
    "    \"Tocantins\": 43650\n",
    "    }"
   ],
   "outputs": [],
   "execution_count": 2
  },
  {
   "metadata": {
    "ExecuteTime": {
     "end_time": "2025-07-10T05:29:09.206387Z",
     "start_time": "2025-07-10T05:29:09.200084Z"
    }
   },
   "cell_type": "code",
   "source": [
    "maior_pib_2021 = {max(pib_2021, key=pib_2021.get): max(pib_2021.values())}\n",
    "menor_pib_2021 = {min(pib_2021, key=pib_2021.get): min(pib_2021.values())}\n",
    "media_pib_2021 = (sum(pib_2021.values()) / len(pib_2021))\n",
    "total_pib_2021 = sum(pib_2021.values())\n",
    "\n",
    "maior_pib_2022 = {max(pib_2022, key=pib_2022.get): max(pib_2022.values())}\n",
    "menor_pib_2022 = {min(pib_2022, key=pib_2022.get): min(pib_2022.values())}\n",
    "media_pib_2022 = (sum(pib_2022.values()) / len(pib_2022))\n",
    "total_pib_2022 = sum(pib_2022.values())\n",
    "\n",
    "auxiliar = 0\n",
    "for estado, valor_2021 in pib_2021.items():\n",
    "    valor_2022 = pib_2022[estado]\n",
    "    crescimento = valor_2022 - valor_2021\n",
    "    \n",
    "    if crescimento > auxiliar:\n",
    "        maior_crescimento_val_brut = {estado: crescimento}\n",
    "        auxiliar = crescimento\n",
    "\n",
    "auxiliar = 0\n",
    "for estado, valor_2021 in pib_2021.items():\n",
    "    valor_2022 = pib_2022[estado]\n",
    "    crescimento = valor_2022 - valor_2021\n",
    "    percentual = (crescimento / valor_2021) * 100\n",
    "    \n",
    "    if percentual > auxiliar:\n",
    "        maior_crescimento_percentual = {estado: percentual}\n",
    "        auxiliar = percentual\n",
    "    \n",
    "\n",
    "print(' PIB 2021 '.center(50, '='))\n",
    "print(f' Maior PIB -> {maior_pib_2021}')\n",
    "print(f' Menor PIB -> {menor_pib_2021}')\n",
    "print(f' Média PIB -> {media_pib_2021:.2f}')\n",
    "print(f' PIB Total de 2021 -> {total_pib_2021}\\n')\n",
    "\n",
    "print(' PIB 2022 '.center(50, '='))\n",
    "print(f' Maior PIB -> {maior_pib_2022}')\n",
    "print(f' Menor PIB -> {menor_pib_2022}')\n",
    "print(f' Média PIB -> {media_pib_2022:.2f}')\n",
    "print(f' PIB Total de 2022 -> {total_pib_2022}\\n')\n",
    "\n",
    "print(' PIB GERAL '.center(50, '='))\n",
    "print(f' Maior crescimento em valores absolutos -> {maior_crescimento_val_brut}')\n",
    "print(f' Maior crescimento percentual -> {maior_crescimento_percentual}')\n",
    "\n"
   ],
   "outputs": [
    {
     "name": "stdout",
     "output_type": "stream",
     "text": [
      "==================== PIB 2021 ====================\n",
      " Maior PIB -> {'São Paulo': 2377639}\n",
      " Menor PIB -> {'Roraima': 16024}\n",
      " Média PIB -> 281836.96\n",
      " PIB Total de 2021 -> 7609598\n",
      "\n",
      "==================== PIB 2022 ====================\n",
      " Maior PIB -> {'São Paulo': 2719751}\n",
      " Menor PIB -> {'Roraima': 18203}\n",
      " Média PIB -> 333783.11\n",
      " PIB Total de 2022 -> 9012144\n",
      "\n",
      "=================== PIB GERAL ====================\n",
      " Maior crescimento em valores absolutos -> {'São Paulo': 342112}\n",
      " Maior crescimento percentual -> {'Espírito Santo': 34.591826416075584}\n"
     ]
    }
   ],
   "execution_count": 44
  },
  {
   "cell_type": "markdown",
   "metadata": {},
   "source": [
    "### Desafio (esse exercício é mais difícil mesmo)\n",
    "### Temos o preço de diferentes ações no início de 2024 e em maio de 2024, queremos:\n",
    "    - Ação que mais subiu, ação que mais caiu no período (percentualmente)\n",
    "    - Se tivessemos 1.000 reais investido em um portfólio com as ações da carteira A vs um portfólio com as ações B, qual teria rendido mais? - considere que os 1.000 reais são investidos de forma proporcional entre cada ativo da carteira"
   ]
  },
  {
   "cell_type": "code",
   "metadata": {
    "ExecuteTime": {
     "end_time": "2025-07-10T05:31:46.827768Z",
     "start_time": "2025-07-10T05:31:46.824001Z"
    }
   },
   "source": [
    "acoes = {\n",
    "    \"PETR4\": [37.78, 37.01],\n",
    "    \"VALE3\": [77.05, 65.30],\n",
    "    \"ITUB4\": [33.52, 33.74],\n",
    "    \"ABEV3\": [13.71, 11.81],\n",
    "    \"WEGE3\": [36.57, 38.35],\n",
    "    \"BBAS3\": [27.38, 29.41],\n",
    "    \"JBSS3\": [25.17, 29.96],\n",
    "    \"SBSP3\": [73.63, 75.07]\n",
    "}\n",
    "\n",
    "carteiraA = [\"PETR4\", \"VALE3\", \"JBSS3\", \"SBSP3\"]\n",
    "carteiraB = [\"WEGE3\", \"BBAS3\", \"ITUB4\", \"ABEV3\"]"
   ],
   "outputs": [],
   "execution_count": 46
  },
  {
   "cell_type": "code",
   "metadata": {
    "ExecuteTime": {
     "end_time": "2025-07-10T05:55:44.496163Z",
     "start_time": "2025-07-10T05:55:44.491257Z"
    }
   },
   "source": [
    "# seu código aqui - Ação que mais subiu, ação que mais caiu no período (percentualmente)\n",
    "acoes_valores = list(acoes.values())\n",
    "\n",
    "variacao_acoes_valores = [(acao[1] - acao[0]) for acao in acoes_valores]\n",
    "perc_variacao_acoes_valores = [(((acao[1] - acao[0]) / acao[0]) * 100) for acao in acoes_valores]\n",
    "\n",
    "acao_mais_subiu = list(acoes.keys())[(variacao_acoes_valores.index(max(variacao_acoes_valores)))]\n",
    "acao_mais_caiu = list(acoes.keys())[(variacao_acoes_valores.index(min(variacao_acoes_valores)))]\n",
    "\n",
    "print(' AÇÕES - VARIAÇÃO '.center(50, '='))\n",
    "print(f' Ação que mais subiu: {acao_mais_subiu} -> {max(perc_variacao_acoes_valores):.2f}%')\n",
    "print(f' Ação que mais caiu: {acao_mais_caiu} -> {min(perc_variacao_acoes_valores):.2f}%')\n",
    "\n"
   ],
   "outputs": [
    {
     "name": "stdout",
     "output_type": "stream",
     "text": [
      "================ AÇÕES - VARIAÇÃO ================\n",
      " Ação que mais subiu: JBSS3 -> 19.03%\n",
      " Ação que mais caiu: VALE3 -> -15.25%\n"
     ]
    }
   ],
   "execution_count": 69
  },
  {
   "cell_type": "code",
   "metadata": {
    "ExecuteTime": {
     "end_time": "2025-07-10T06:14:26.270441Z",
     "start_time": "2025-07-10T06:14:26.265399Z"
    }
   },
   "source": [
    "# seu código aqui - Se tivessemos 1.000 reais investido em um portfólio com as ações da carteira A vs um portfólio com as ações B, qual teria rendido mais? - considere que os 1.000 reais são investidos de forma proporcional entre cada ativo da carteira\n",
    "investimento = 1000\n",
    "\n",
    "investimento_cada_A = investimento / len(carteiraA)  \n",
    "investimento_cada_B = investimento / len(carteiraB)\n",
    "\n",
    "rendimento_A = 0\n",
    "for acao in carteiraA:\n",
    "    auxiliar = investimento_cada_A / acoes[acao][0]\n",
    "    rendimento_A += auxiliar * acoes[acao][1]\n",
    "\n",
    "rendimento_B = 0\n",
    "for acao in carteiraB:\n",
    "    auxiliar = investimento_cada_B / acoes[acao][0]\n",
    "    rendimento_B += auxiliar * acoes[acao][1]\n",
    "        \n",
    "print(' RENDIMENTO DE INVESTIMENTOS '.center(50, '='))\n",
    "print(f' Rendimento Carteira A: R$ {rendimento_A:.2f}')\n",
    "print(f' Rendimento Carteira B: R$ {rendimento_B:.2f}\\n')\n",
    "    \n",
    "print(' MAIOR RENDIMENTO '.center(50, '-'))\n",
    "if rendimento_A > rendimento_B:\n",
    "    print(f'*** CARTEIRA A -> R$ {rendimento_A:.2f} ***'.center(50))\n",
    "else:\n",
    "    print(f'*** CARTEIRA B -> R$ {rendimento_B:.2f} ***'.center(50))\n",
    "\n"
   ],
   "outputs": [
    {
     "name": "stdout",
     "output_type": "stream",
     "text": [
      "========== RENDIMENTO DE INVESTIMENTOS ===========\n",
      " Rendimento Carteira A: R$ 1009.25\n",
      " Rendimento Carteira B: R$ 997.70\n",
      "\n",
      "---------------- MAIOR RENDIMENTO ----------------\n",
      "         *** CARTEIRA A -> R$ 1009.25 ***         \n"
     ]
    }
   ],
   "execution_count": 88
  }
 ],
 "metadata": {
  "kernelspec": {
   "display_name": "Python 3 (ipykernel)",
   "language": "python",
   "name": "python3"
  },
  "language_info": {
   "codemirror_mode": {
    "name": "ipython",
    "version": 3
   },
   "file_extension": ".py",
   "mimetype": "text/x-python",
   "name": "python",
   "nbconvert_exporter": "python",
   "pygments_lexer": "ipython3",
   "version": "3.10.9"
  }
 },
 "nbformat": 4,
 "nbformat_minor": 2
}
