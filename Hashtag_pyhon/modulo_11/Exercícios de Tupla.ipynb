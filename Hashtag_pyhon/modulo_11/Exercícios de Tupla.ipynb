{
 "cells": [
  {
   "cell_type": "markdown",
   "metadata": {},
   "source": [
    "# Exercícios\n",
    "\n",
    "São exercícios bem parecidos com os que fizemos com listas. Mas na tupla, podemos não só trabalhar com índices, mas fazer o \"unpacking\" das tuplas, o que pode facilitar nossos códigos.\n",
    "\n",
    "## 1. Análise de Vendas\n",
    "\n",
    "Nesse exercício vamos fazer uma \"análise simples\" de atingimento de Meta.\n",
    "\n",
    "Temos uma lista com os vendedores e os valores de vendas e queremos identificar (printar) quais os vendedores que bateram a meta e qual foi o valor que eles venderam."
   ]
  },
  {
   "cell_type": "code",
   "metadata": {
    "ExecuteTime": {
     "end_time": "2025-06-27T05:18:54.543415Z",
     "start_time": "2025-06-27T05:18:54.539197Z"
    }
   },
   "source": [
    "meta = 10000\n",
    "vendas = [\n",
    "    ('João', 15000),\n",
    "    ('Julia', 27000),\n",
    "    ('Marcus', 9900),\n",
    "    ('Maria', 3750),\n",
    "    ('Ana', 10300),\n",
    "    ('Alon', 7870),\n",
    "]\n",
    "\n",
    "for nome, qtd in vendas:\n",
    "    if qtd >= meta:\n",
    "        print(f'O(A) vendedor(a) {nome} bateu a meta, vendeu {qtd} unidades.')\n"
   ],
   "outputs": [
    {
     "name": "stdout",
     "output_type": "stream",
     "text": [
      "O(A) vendedor(a) João bateu a meta, vendeu 15000 unidades.\n",
      "O(A) vendedor(a) Julia bateu a meta, vendeu 27000 unidades.\n",
      "O(A) vendedor(a) Ana bateu a meta, vendeu 10300 unidades.\n"
     ]
    }
   ],
   "execution_count": 12
  },
  {
   "cell_type": "markdown",
   "metadata": {},
   "source": [
    "## 2. Comparação com Ano Anterior\n",
    "\n",
    "Digamos que você está analisando as vendas de produtos de um ecommerce e quer identificar quais produtos tiveram no ano de 2020 mais vendas do que no ano de 2019, para reportar isso para a diretoria.\n",
    "\n",
    "Sua resposta pode ser um print de cada produto, qual foi a venda de 2019, a venda de 2020 e o % de crescimento de 2020 para 2019.\n",
    "\n",
    "Lembrando, para calcular o % de crescimento de um produto de um ano para o outro, podemos fazer: (vendas_produto2020/vendas_produto2019 - 1)\n",
    "\n",
    "A lógica da tupla é: (produto, vendas2019, vendas2020)"
   ]
  },
  {
   "cell_type": "code",
   "metadata": {
    "ExecuteTime": {
     "end_time": "2025-06-27T05:20:07.964091Z",
     "start_time": "2025-06-27T05:20:07.959067Z"
    }
   },
   "source": [
    "vendas_produtos = [('iphone', 558147, 951642), \n",
    "                   ('galaxy', 712350, 244295), \n",
    "                   ('ipad', 573823, 26964), \n",
    "                   ('tv', 405252, 787604), \n",
    "                   ('máquina de café', 718654, 867660), \n",
    "                   ('kindle', 531580, 78830), \n",
    "                   ('geladeira', 973139, 710331), \n",
    "                   ('adega', 892292, 646016), \n",
    "                   ('notebook dell', 422760, 694913), \n",
    "                   ('notebook hp', 154753, 539704), \n",
    "                   ('notebook asus', 887061, 324831), \n",
    "                   ('microsoft surface', 438508, 667179), \n",
    "                   ('webcam', 237467, 295633), \n",
    "                   ('caixa de som', 489705, 725316), \n",
    "                   ('microfone', 328311, 644622), \n",
    "                   ('câmera canon', 591120, 994303)\n",
    "]\n",
    "\n",
    "print('{:<20}{:<15}{:<15}{}'.format('Produto', 'Venda_2019', 'Venda_2020', '% Crescimento'))\n",
    "for produto, vendas2019, vendas2020 in vendas_produtos:\n",
    "    porc_aum = (vendas2019 / vendas2020 - 1)\n",
    "    if vendas2020 > vendas2019:\n",
    "        print(f' {produto:<20}R$ {vendas2019:>10.2f}  R$ {vendas2020:>10.2f} {porc_aum:>8.1f}%')\n"
   ],
   "outputs": [
    {
     "name": "stdout",
     "output_type": "stream",
     "text": [
      "Produto             Venda_2019     Venda_2020     % Crescimento\n",
      " iphone              R$  558147.00  R$  951642.00     -0.4%\n",
      " tv                  R$  405252.00  R$  787604.00     -0.5%\n",
      " máquina de café     R$  718654.00  R$  867660.00     -0.2%\n",
      " notebook dell       R$  422760.00  R$  694913.00     -0.4%\n",
      " notebook hp         R$  154753.00  R$  539704.00     -0.7%\n",
      " microsoft surface   R$  438508.00  R$  667179.00     -0.3%\n",
      " webcam              R$  237467.00  R$  295633.00     -0.2%\n",
      " caixa de som        R$  489705.00  R$  725316.00     -0.3%\n",
      " microfone           R$  328311.00  R$  644622.00     -0.5%\n",
      " câmera canon        R$  591120.00  R$  994303.00     -0.4%\n"
     ]
    }
   ],
   "execution_count": 15
  }
 ],
 "metadata": {
  "kernelspec": {
   "display_name": "Python 3",
   "language": "python",
   "name": "python3"
  },
  "language_info": {
   "codemirror_mode": {
    "name": "ipython",
    "version": 3
   },
   "file_extension": ".py",
   "mimetype": "text/x-python",
   "name": "python",
   "nbconvert_exporter": "python",
   "pygments_lexer": "ipython3",
   "version": "3.8.3"
  }
 },
 "nbformat": 4,
 "nbformat_minor": 4
}
