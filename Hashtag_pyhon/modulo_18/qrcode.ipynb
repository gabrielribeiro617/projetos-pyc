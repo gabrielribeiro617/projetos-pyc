{
 "cells": [
  {
   "cell_type": "markdown",
   "id": "9d4ec1f7-92e3-4764-8b47-318a52fc62c4",
   "metadata": {},
   "source": [
    "# Criando QR Code"
   ]
  },
  {
   "cell_type": "markdown",
   "id": "6a649f54-8f0f-46dd-933a-e934d67e51b0",
   "metadata": {},
   "source": [
    "Para instalar:\n",
    "\n",
    "```\n",
    "pip install qrcode\n",
    "pip install Pillow\n",
    "```"
   ]
  },
  {
   "cell_type": "markdown",
   "id": "0a2ec7b0-c74f-4857-a6a7-2b79641a44da",
   "metadata": {},
   "source": [
    "Links da Hashtag:\n",
    "\n",
    "- https://www.youtube.com/@HashtagProgramacao\n",
    "- https://www.facebook.com/hashtagprogramacao\n",
    "- https://www.instagram.com/hashtagprogramacao\n",
    "- https://www.youtube.com/@HashtagProgramacao\n",
    "- https://www.tiktok.com/@hashtagprogramacao"
   ]
  },
  {
   "cell_type": "markdown",
   "id": "fbd74860-92b2-4efe-96cb-1bd4f701ba30",
   "metadata": {},
   "source": [
    "## QR Code simples"
   ]
  },
  {
   "cell_type": "code",
   "id": "aeb7d00d-0dbd-446e-8f94-3b00e10a763d",
   "metadata": {
    "ExecuteTime": {
     "end_time": "2025-07-12T15:34:16.523936Z",
     "start_time": "2025-07-12T15:34:16.503119Z"
    }
   },
   "source": [
    "import qrcode\n",
    "\n",
    "img = qrcode.make('https://www.youtube.com/@HashtagProgramacao')\n",
    "img.save('qrcode.png')\n",
    "img.show()"
   ],
   "outputs": [],
   "execution_count": 8
  },
  {
   "cell_type": "markdown",
   "id": "0df50a17-96db-49b2-bf18-d00f8193ae0e",
   "metadata": {},
   "source": [
    "## QR Code com imagem"
   ]
  },
  {
   "cell_type": "code",
   "id": "038b1eac-e441-4d0f-84af-097c3ade3791",
   "metadata": {
    "ExecuteTime": {
     "end_time": "2025-07-12T15:37:22.213861Z",
     "start_time": "2025-07-12T15:37:22.210869Z"
    }
   },
   "source": [
    "import qrcode\n",
    "\n"
   ],
   "outputs": [],
   "execution_count": 9
  },
  {
   "cell_type": "markdown",
   "id": "6bd9dccf-64e7-4dfe-b4cb-f81ef1cd2f9f",
   "metadata": {},
   "source": [
    "## Criando diversos QR Code ao mesmo tempo"
   ]
  },
  {
   "cell_type": "code",
   "execution_count": null,
   "id": "2028e0a0-49a6-4a9e-a903-0d1397cf2422",
   "metadata": {},
   "outputs": [],
   "source": []
  }
 ],
 "metadata": {
  "kernelspec": {
   "display_name": "Python (projetos-pyc)",
   "language": "python",
   "name": "projetos-pyc"
  },
  "language_info": {
   "codemirror_mode": {
    "name": "ipython",
    "version": 3
   },
   "file_extension": ".py",
   "mimetype": "text/x-python",
   "name": "python",
   "nbconvert_exporter": "python",
   "pygments_lexer": "ipython3",
   "version": "3.11.4"
  }
 },
 "nbformat": 4,
 "nbformat_minor": 5
}
