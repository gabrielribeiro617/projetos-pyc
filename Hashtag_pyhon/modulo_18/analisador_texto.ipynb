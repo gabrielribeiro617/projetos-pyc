{
 "cells": [
  {
   "cell_type": "markdown",
   "id": "bc53556e-a539-4328-b873-fa5357312414",
   "metadata": {},
   "source": [
    "Crie um programa que analise um texto fornecido pelo usuário. O programa deve contar o número de palavras (independentemente se há repetição ou não), a quantidade de cada palavra e a quantidade de cada letra. Ignore maiúsculas e minúsculas ao contar letras (ou seja, transforme tudo para minúsculas). Faça o devido tratamento para pontuação e espaços ao contar palavras.\n",
    "\n",
    "O programa deve conter uma função chamada `analisar_texto` que recebe o texto como parâmetro e retorna a contagem de palavras, a frequência de palavras e a frequência de letras. A função deve ser devidamente documentada.\n",
    "\n",
    "Para o texto \"Olá mundo! Este é um teste. Olá novamente.\" o programa deve imprimir:\n",
    "\n",
    "```\n",
    "Contagem de palavras: 8\n",
    "Frequência de palavras: Counter({'Olá': 2, 'mundo': 1, 'Este': 1, 'é': 1, 'um': 1, 'teste': 1, 'novamente': 1})\n",
    "Frequência de letras: Counter({' ': 7, 'e': 6, 'o': 4, 't': 4, 'm': 3, 'n': 3, 'l': 2, 'á': 2, 'u': 2, 's': 2, 'd': 1, 'é': 1, 'v': 1, 'a': 1})\n",
    "```\n",
    "\n",
    "Dica: use o módulo `string` para obter uma lista de caracteres de pontuação. Exemplo:\n",
    "\n",
    "```python\n",
    "import string\n",
    "print(string.punctuation)\n",
    "```\n",
    "\n",
    "Dica: use o módulo `collections` para obter um contador de palavras e letras. Exemplo:\n",
    "\n",
    "```python\n",
    "from collections import Counter\n",
    "print(Counter(['a', 'b', 'a', 'c', 'b', 'a']))\n",
    "print(Counter('abacba'))\n",
    "``` "
   ]
  },
  {
   "metadata": {
    "ExecuteTime": {
     "end_time": "2025-07-12T13:44:32.350416Z",
     "start_time": "2025-07-12T13:44:32.345848Z"
    }
   },
   "cell_type": "code",
   "source": [
    "import string\n",
    "from collections import Counter\n",
    "\n",
    "def analisar_texto(txt):\n",
    "    \"\"\"\n",
    "    Analisa o texto fornecido e calcula a contagem de palavras, frequência de palavras\n",
    "    e frequência de letras.\n",
    "    \n",
    "    Parameters\n",
    "    ----------\n",
    "    txt : str\n",
    "        Texto a ser analisado\n",
    "        \n",
    "    Returns\n",
    "    -------\n",
    "    tuple\n",
    "        Contagem de palavras, frequência de palavras e frequência de letras\n",
    "    \"\"\"\n",
    "    \n",
    "    txt_tratado = txt.translate(str.maketrans('','', string.punctuation))\n",
    "    cont_palavras = len(txt_tratado.split())\n",
    "    freq_palavras = Counter(txt_tratado.split())\n",
    "    freq_letras = Counter(txt_tratado.casefold())\n",
    "    \n",
    "    return cont_palavras, freq_palavras, freq_letras\n",
    "\n",
    "\n",
    "texto = 'Olá mundo! Este é um teste. Olá novamente.'\n",
    "\n",
    "contagem_palavras, frequencia_palavras, frequencia_letras = analisar_texto(texto)\n",
    "\n",
    "print('| CONTAGEM - FREQUÊNCIA |'.center(50, '='))\n",
    "print(f' Contagem de palavras: {contagem_palavras}')\n",
    "print(f' Frequência de palavras: {frequencia_palavras}')\n",
    "print(f' Frequência de letras: {frequencia_letras}')\n",
    "\n"
   ],
   "id": "8feda3f2-210f-4224-9b53-de7206c039ae",
   "outputs": [
    {
     "name": "stdout",
     "output_type": "stream",
     "text": [
      "============| CONTAGEM - FREQUÊNCIA |=============\n",
      " Contagem de palavras: 8\n",
      " Frequência de palavras: Counter({'Olá': 2, 'mundo': 1, 'Este': 1, 'é': 1, 'um': 1, 'teste': 1, 'novamente': 1})\n",
      " Frequência de letras: Counter({' ': 7, 'e': 6, 'o': 4, 't': 4, 'm': 3, 'n': 3, 'l': 2, 'á': 2, 'u': 2, 's': 2, 'd': 1, 'é': 1, 'v': 1, 'a': 1})\n"
     ]
    }
   ],
   "execution_count": 63
  }
 ],
 "metadata": {
  "kernelspec": {
   "display_name": "Python 3 (ipykernel)",
   "language": "python",
   "name": "python3"
  },
  "language_info": {
   "codemirror_mode": {
    "name": "ipython",
    "version": 3
   },
   "file_extension": ".py",
   "mimetype": "text/x-python",
   "name": "python",
   "nbconvert_exporter": "python",
   "pygments_lexer": "ipython3",
   "version": "3.10.11"
  }
 },
 "nbformat": 4,
 "nbformat_minor": 5
}
