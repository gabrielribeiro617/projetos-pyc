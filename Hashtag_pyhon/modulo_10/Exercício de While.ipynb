{
 "cells": [
  {
   "cell_type": "markdown",
   "metadata": {},
   "source": [
    "# Exercícios\n",
    "\n",
    "## 1. Input até o usuário parar\n",
    "\n",
    "Vamos criar um sistema de vendas. Nosso programa deve registrar os produtos e as quantidades (2 inputs) e adicionar em uma lista.\n",
    "\n",
    "O programa deve continuar rodando até o input ser vazio, ou seja, o usuário apertar enter sem digitar nenhum produto ou quantidade.\n",
    "\n",
    "Ao final do programa, ele deve printar todos os produtos e quantidades vendidas.\n",
    "\n",
    "Obs: Caso queira, para o print ficar mais visual, pode usar o join para cada item ser printado em uma linha.\n",
    "Sugestão para sua lista de produtos vendidos:"
   ]
  },
  {
   "cell_type": "raw",
   "metadata": {},
   "source": [
    "vendas = [\n",
    "    ['maçã', 5],\n",
    "    ['banana', 15],\n",
    "    ['azeite', 1],\n",
    "    ['vinho', 3],\n",
    "]"
   ]
  },
  {
   "metadata": {
    "ExecuteTime": {
     "end_time": "2025-06-26T04:17:39.366034Z",
     "start_time": "2025-06-26T04:17:18.028885Z"
    }
   },
   "cell_type": "code",
   "source": [
    "vendas = []\n",
    "while True:\n",
    "    produto = str(input('Produto: ')).strip().casefold()\n",
    "    if not produto:\n",
    "        break\n",
    "    qtd = int(input('Quantidade: '))\n",
    "    vendas.append([produto, qtd])\n",
    "for prod in vendas:\n",
    "    print(f'Produto: {prod[0]:<8}- Quantidade: {prod[1]:>3}')"
   ],
   "outputs": [
    {
     "name": "stdout",
     "output_type": "stream",
     "text": [
      "Produto: maçã      - Quantidade:   5\n",
      "Produto: banana    - Quantidade:  15\n",
      "Produto: azeite    - Quantidade:   1\n",
      "Produto: vinho     - Quantidade:   3\n"
     ]
    }
   ],
   "execution_count": 17
  },
  {
   "metadata": {},
   "cell_type": "markdown",
   "source": [
    "### Obs: Podemos fazer o While de 2 maneiras:\n",
    "\n",
    "1. While com a condição que finalize o programa\n",
    "2. While rodando para sempre, mas com uma condição dentro do while que dê um break no código.\n",
    "\n",
    "Vamos mostrar as 2 opções"
   ]
  }
 ],
 "metadata": {
  "kernelspec": {
   "display_name": "Python 3",
   "language": "python",
   "name": "python3"
  },
  "language_info": {
   "codemirror_mode": {
    "name": "ipython",
    "version": 3
   },
   "file_extension": ".py",
   "mimetype": "text/x-python",
   "name": "python",
   "nbconvert_exporter": "python",
   "pygments_lexer": "ipython3",
   "version": "3.8.3"
  }
 },
 "nbformat": 4,
 "nbformat_minor": 4
}
