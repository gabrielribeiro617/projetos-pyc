{
 "cells": [
  {
   "cell_type": "markdown",
   "id": "ac60394f",
   "metadata": {
    "id": "ac60394f"
   },
   "source": [
    "# Estruturas de repetição\n",
    "\n",
    "<span style=\"color: red;\"><b>Todos os exercícios são feitos partindo-se do pressuposto de que todas as entradas são dadas de forma correta. Casos limite não mencionados no enunciado não são abordados porque não fazem parte do exercício.</b></span>"
   ]
  },
  {
   "cell_type": "markdown",
   "id": "017affd0",
   "metadata": {
    "id": "017affd0"
   },
   "source": [
    "#### 1. Faça um programa que peça uma nota, entre zero e dez. Mostre uma mensagem caso o valor seja inválido e continue pedindo até que o usuário informe um valor válido."
   ]
  },
  {
   "cell_type": "code",
   "id": "5f12870d",
   "metadata": {
    "id": "5f12870d",
    "ExecuteTime": {
     "end_time": "2025-06-26T04:26:13.242935Z",
     "start_time": "2025-06-26T04:26:06.245002Z"
    }
   },
   "source": [
    "while True:\n",
    "    try:\n",
    "        nota = int(input('Nota de 0 a 10: '))\n",
    "        if nota > 10 or 0 > nota:\n",
    "            print('Valor inválido')\n",
    "        else:\n",
    "            print('Valor válido')\n",
    "            break\n",
    "    except ValueError:\n",
    "        print('ERRO')\n"
   ],
   "outputs": [
    {
     "name": "stdout",
     "output_type": "stream",
     "text": [
      "ERRO\n",
      "ERRO\n",
      "ERRO\n",
      "Valor válido\n"
     ]
    }
   ],
   "execution_count": 7
  },
  {
   "cell_type": "markdown",
   "id": "dd0c6d56",
   "metadata": {
    "id": "dd0c6d56"
   },
   "source": [
    "#### 2. Faça um programa que leia um nome de usuário e a sua senha e não aceite a senha igual ao nome do usuário, mostrando uma mensagem de erro e voltando a pedir as informações."
   ]
  },
  {
   "cell_type": "code",
   "id": "f6579866",
   "metadata": {
    "id": "f6579866",
    "ExecuteTime": {
     "end_time": "2025-06-26T04:31:01.840272Z",
     "start_time": "2025-06-26T04:30:52.366203Z"
    }
   },
   "source": [
    "while True:\n",
    "    try:\n",
    "        nome = str(input('Nome: ')).strip()\n",
    "        sen = str(input('Senha: ')).strip()\n",
    "        if sen == nome:\n",
    "            print('A senha não pode ser igual a nome. Tente novamente.')\n",
    "        else:\n",
    "            print('Acesso concedido')\n",
    "            break\n",
    "    except:\n",
    "        print('ERRO')\n"
   ],
   "outputs": [
    {
     "name": "stdout",
     "output_type": "stream",
     "text": [
      "A senha não pode ser igual a nome. Tente novamente.\n",
      "Acesso concedido\n"
     ]
    }
   ],
   "execution_count": 10
  },
  {
   "cell_type": "markdown",
   "id": "ed113a82",
   "metadata": {
    "id": "ed113a82"
   },
   "source": [
    "#### 3. Faça um programa que leia e valide as seguintes informações (e para cada uma delas, continue pedindo a informação até o usuário inserir corretamente):\n",
    "##### Nome: maior que 3 caracteres;\n",
    "##### Idade: entre 0 e 150;\n",
    "##### Salário: maior que zero;\n",
    "##### Sexo: 'f' ou 'm';\n",
    "##### Estado Civil: 's', 'c', 'v', 'd';"
   ]
  },
  {
   "cell_type": "code",
   "id": "3284f187",
   "metadata": {
    "id": "3284f187",
    "ExecuteTime": {
     "end_time": "2025-06-26T04:47:21.900805Z",
     "start_time": "2025-06-26T04:47:05.303673Z"
    }
   },
   "source": [
    "nome = str(input('Nome: ')).strip().title()\n",
    "\n",
    "while len(nome) < 3:\n",
    "    print('Nome inválido: mínimo de 3 caracteres. Tente novamente.')\n",
    "    nome = str(input('Nome: ')).strip().title()\n",
    "\n",
    "idade = int(input('Idade: '))\n",
    "\n",
    "while idade > 150 or idade < 0:\n",
    "    print('Idade inválida: mínimo de 0 e máxima de 150 anos. Tente novamente.')\n",
    "    idade = int(input('Idade: '))\n",
    "\n",
    "salario = float(input('Salário: R$ '))\n",
    "\n",
    "while salario == 0:\n",
    "    print('Salário inválido: precisa ser maior que R$ 0.00. Tente novamente.')\n",
    "    salario = float(input('Salário: R$ '))\n",
    "\n",
    "sexo = str(input('Sexo [m/f]: ')).strip().casefold()\n",
    "\n",
    "while sexo not in ['m', 'f']:\n",
    "    print('Sexo inválido: apenas m ou f. Tente novamente.')\n",
    "    sexo = str(input('Sexo [m/f]: ')).strip().casefold()\n",
    "\n",
    "est_civil = str(input('Estado Civil [s/c/v/d]: ')).strip().casefold()\n",
    "\n",
    "while est_civil not in ['s', 'c', 'v', 'd']:\n",
    "    print('Estadoo Civil inválido: apenas s ou c ou v ou d. Tente novamente.')\n",
    "    est_civil = str(input('Estado Civil [s/c/v/d]: ')).strip().casefold()\n"
   ],
   "outputs": [
    {
     "name": "stdout",
     "output_type": "stream",
     "text": [
      "Salário inválido: precisa ser maior que R$ 0.00. Tente novamente.\n",
      "Salário inválido: precisa ser maior que R$ 0.00. Tente novamente.\n"
     ]
    },
    {
     "ename": "KeyboardInterrupt",
     "evalue": "Interrupted by user",
     "output_type": "error",
     "traceback": [
      "\u001B[31m---------------------------------------------------------------------------\u001B[39m",
      "\u001B[31mKeyboardInterrupt\u001B[39m                         Traceback (most recent call last)",
      "\u001B[36mCell\u001B[39m\u001B[36m \u001B[39m\u001B[32mIn[12]\u001B[39m\u001B[32m, line 17\u001B[39m\n\u001B[32m     15\u001B[39m \u001B[38;5;28;01mwhile\u001B[39;00m salario == \u001B[32m0\u001B[39m:\n\u001B[32m     16\u001B[39m     \u001B[38;5;28mprint\u001B[39m(\u001B[33m'\u001B[39m\u001B[33mSalário inválido: precisa ser maior que R$ 0.00. Tente novamente.\u001B[39m\u001B[33m'\u001B[39m)\n\u001B[32m---> \u001B[39m\u001B[32m17\u001B[39m     salario = \u001B[38;5;28mfloat\u001B[39m(\u001B[38;5;28;43minput\u001B[39;49m\u001B[43m(\u001B[49m\u001B[33;43m'\u001B[39;49m\u001B[33;43mSalário: R$ \u001B[39;49m\u001B[33;43m'\u001B[39;49m\u001B[43m)\u001B[49m)\n\u001B[32m     19\u001B[39m sexo = \u001B[38;5;28mstr\u001B[39m(\u001B[38;5;28minput\u001B[39m(\u001B[33m'\u001B[39m\u001B[33mSexo [m/f]: \u001B[39m\u001B[33m'\u001B[39m)).strip().casefold()\n\u001B[32m     21\u001B[39m \u001B[38;5;28;01mwhile\u001B[39;00m sexo \u001B[38;5;129;01mnot\u001B[39;00m \u001B[38;5;129;01min\u001B[39;00m [\u001B[33m'\u001B[39m\u001B[33mm\u001B[39m\u001B[33m'\u001B[39m, \u001B[33m'\u001B[39m\u001B[33mf\u001B[39m\u001B[33m'\u001B[39m]:\n",
      "\u001B[36mFile \u001B[39m\u001B[32mG:\\GG\\PYPY\\projetos pyc\\Hashtag_pyhon\\.venv\\Lib\\site-packages\\ipykernel\\kernelbase.py:1282\u001B[39m, in \u001B[36mKernel.raw_input\u001B[39m\u001B[34m(self, prompt)\u001B[39m\n\u001B[32m   1280\u001B[39m     msg = \u001B[33m\"\u001B[39m\u001B[33mraw_input was called, but this frontend does not support input requests.\u001B[39m\u001B[33m\"\u001B[39m\n\u001B[32m   1281\u001B[39m     \u001B[38;5;28;01mraise\u001B[39;00m StdinNotImplementedError(msg)\n\u001B[32m-> \u001B[39m\u001B[32m1282\u001B[39m \u001B[38;5;28;01mreturn\u001B[39;00m \u001B[38;5;28;43mself\u001B[39;49m\u001B[43m.\u001B[49m\u001B[43m_input_request\u001B[49m\u001B[43m(\u001B[49m\n\u001B[32m   1283\u001B[39m \u001B[43m    \u001B[49m\u001B[38;5;28;43mstr\u001B[39;49m\u001B[43m(\u001B[49m\u001B[43mprompt\u001B[49m\u001B[43m)\u001B[49m\u001B[43m,\u001B[49m\n\u001B[32m   1284\u001B[39m \u001B[43m    \u001B[49m\u001B[38;5;28;43mself\u001B[39;49m\u001B[43m.\u001B[49m\u001B[43m_parent_ident\u001B[49m\u001B[43m[\u001B[49m\u001B[33;43m\"\u001B[39;49m\u001B[33;43mshell\u001B[39;49m\u001B[33;43m\"\u001B[39;49m\u001B[43m]\u001B[49m\u001B[43m,\u001B[49m\n\u001B[32m   1285\u001B[39m \u001B[43m    \u001B[49m\u001B[38;5;28;43mself\u001B[39;49m\u001B[43m.\u001B[49m\u001B[43mget_parent\u001B[49m\u001B[43m(\u001B[49m\u001B[33;43m\"\u001B[39;49m\u001B[33;43mshell\u001B[39;49m\u001B[33;43m\"\u001B[39;49m\u001B[43m)\u001B[49m\u001B[43m,\u001B[49m\n\u001B[32m   1286\u001B[39m \u001B[43m    \u001B[49m\u001B[43mpassword\u001B[49m\u001B[43m=\u001B[49m\u001B[38;5;28;43;01mFalse\u001B[39;49;00m\u001B[43m,\u001B[49m\n\u001B[32m   1287\u001B[39m \u001B[43m\u001B[49m\u001B[43m)\u001B[49m\n",
      "\u001B[36mFile \u001B[39m\u001B[32mG:\\GG\\PYPY\\projetos pyc\\Hashtag_pyhon\\.venv\\Lib\\site-packages\\ipykernel\\kernelbase.py:1325\u001B[39m, in \u001B[36mKernel._input_request\u001B[39m\u001B[34m(self, prompt, ident, parent, password)\u001B[39m\n\u001B[32m   1322\u001B[39m \u001B[38;5;28;01mexcept\u001B[39;00m \u001B[38;5;167;01mKeyboardInterrupt\u001B[39;00m:\n\u001B[32m   1323\u001B[39m     \u001B[38;5;66;03m# re-raise KeyboardInterrupt, to truncate traceback\u001B[39;00m\n\u001B[32m   1324\u001B[39m     msg = \u001B[33m\"\u001B[39m\u001B[33mInterrupted by user\u001B[39m\u001B[33m\"\u001B[39m\n\u001B[32m-> \u001B[39m\u001B[32m1325\u001B[39m     \u001B[38;5;28;01mraise\u001B[39;00m \u001B[38;5;167;01mKeyboardInterrupt\u001B[39;00m(msg) \u001B[38;5;28;01mfrom\u001B[39;00m\u001B[38;5;250m \u001B[39m\u001B[38;5;28;01mNone\u001B[39;00m\n\u001B[32m   1326\u001B[39m \u001B[38;5;28;01mexcept\u001B[39;00m \u001B[38;5;167;01mException\u001B[39;00m:\n\u001B[32m   1327\u001B[39m     \u001B[38;5;28mself\u001B[39m.log.warning(\u001B[33m\"\u001B[39m\u001B[33mInvalid Message:\u001B[39m\u001B[33m\"\u001B[39m, exc_info=\u001B[38;5;28;01mTrue\u001B[39;00m)\n",
      "\u001B[31mKeyboardInterrupt\u001B[39m: Interrupted by user"
     ]
    }
   ],
   "execution_count": 12
  },
  {
   "cell_type": "markdown",
   "id": "2f25dceb",
   "metadata": {
    "id": "2f25dceb"
   },
   "source": [
    "#### 4. Supondo que a população de um país A seja da ordem de 80000 habitantes com uma taxa anual de crescimento de 3% e que a população de B seja 200000 habitantes com uma taxa de crescimento de 1.5%. Faça um programa que calcule e escreva o número de anos necessários para que a população do país A ultrapasse ou iguale a população do país B, mantidas as taxas de crescimento."
   ]
  },
  {
   "cell_type": "code",
   "id": "7ad0f5e9",
   "metadata": {
    "id": "7ad0f5e9",
    "ExecuteTime": {
     "end_time": "2025-06-26T04:54:17.938305Z",
     "start_time": "2025-06-26T04:54:17.934672Z"
    }
   },
   "source": [
    "pais_a = 80000\n",
    "porc_a = 1.03\n",
    "\n",
    "pais_b = 200000\n",
    "porc_b = 1.015\n",
    "\n",
    "ano = 0\n",
    "while pais_a < pais_b:\n",
    "    pais_a *= porc_a\n",
    "    pais_b *= porc_b\n",
    "    ano += 1\n",
    "\n",
    "print(f'O país A demoraria {ano} ano(s) para ultrapassar, em população, o país B.')\n"
   ],
   "outputs": [
    {
     "name": "stdout",
     "output_type": "stream",
     "text": [
      "O país A demoraria 63 ano(s) para ultrapassar, em população, o país B.\n"
     ]
    }
   ],
   "execution_count": 14
  },
  {
   "cell_type": "markdown",
   "id": "e9626858",
   "metadata": {
    "id": "e9626858"
   },
   "source": [
    "#### 5. Altere o programa anterior permitindo ao usuário informar as populações e as taxas de crescimento iniciais. Valide a entrada e permita repetir a operação."
   ]
  },
  {
   "cell_type": "code",
   "id": "c7e250a4",
   "metadata": {
    "id": "c7e250a4",
    "ExecuteTime": {
     "end_time": "2025-06-26T05:11:22.930799Z",
     "start_time": "2025-06-26T05:10:31.304646Z"
    }
   },
   "source": [
    "resp = 's'\n",
    "while resp in 's':\n",
    "    pais_a = int(input('População A: '))\n",
    "    porc_a = float(input('Taxa A: '))\n",
    "    porc_a = (porc_a / 100) + 1\n",
    "\n",
    "    pais_b = int(input('População B: '))\n",
    "    porc_b = float(input('Taxa B: '))\n",
    "    porc_b = (porc_b / 100) + 1\n",
    "\n",
    "    ano = 0\n",
    "    while pais_a < pais_b:\n",
    "        pais_a *= porc_a\n",
    "        pais_b *= porc_b\n",
    "        ano += 1\n",
    "\n",
    "    print(f'O país A demoraria {ano} ano(s) para ultrapassar, em população, o país B.')\n",
    "    resp = str(input('Quer fazer outra operação [s/n]? ')).strip().casefold()\n"
   ],
   "outputs": [
    {
     "name": "stdout",
     "output_type": "stream",
     "text": [
      "O país A demoraria 63 ano(s) para ultrapassar, em população, o país B.\n",
      "O país A demoraria 634 ano(s) para ultrapassar, em população, o país B.\n"
     ]
    }
   ],
   "execution_count": 24
  },
  {
   "cell_type": "markdown",
   "id": "b3d268b5",
   "metadata": {
    "id": "b3d268b5"
   },
   "source": [
    "#### 6. Faça um programa que peça para o usuário inserir o faturamento dos últimos 5 meses (individualmente) e informe o maior faturamento"
   ]
  },
  {
   "cell_type": "code",
   "id": "8078e7a5",
   "metadata": {
    "id": "8078e7a5",
    "ExecuteTime": {
     "end_time": "2025-06-26T05:17:42.177552Z",
     "start_time": "2025-06-26T05:17:28.523392Z"
    }
   },
   "source": [
    "faturamentos = []\n",
    "\n",
    "mes = 0\n",
    "while mes < 5:\n",
    "    fat = float(input(f'Faturamento do mês {mes + 1}: R$ '))\n",
    "    faturamentos.append(fat)\n",
    "    mes += 1\n",
    "\n",
    "print(f'O maior faturamento do últimos {mes} meses foi de R$ {max(faturamentos):.2f}')\n"
   ],
   "outputs": [
    {
     "name": "stdout",
     "output_type": "stream",
     "text": [
      "O maior faturamento do últimos 5 meses foi de R$ 8701.00\n"
     ]
    }
   ],
   "execution_count": 30
  },
  {
   "cell_type": "markdown",
   "id": "6407824c",
   "metadata": {
    "id": "6407824c"
   },
   "source": [
    "#### 7. Faça um programa que peça para o usuário inserir o faturamento dos últimos 5 meses (individualmente) e informe o faturamento total (soma) e o faturamento médio por mês (média)."
   ]
  },
  {
   "cell_type": "code",
   "id": "a02320d1",
   "metadata": {
    "id": "a02320d1",
    "ExecuteTime": {
     "end_time": "2025-06-26T05:21:54.846693Z",
     "start_time": "2025-06-26T05:21:38.345196Z"
    }
   },
   "source": [
    "faturamentos = []\n",
    "\n",
    "mes = 0\n",
    "while mes < 5:\n",
    "    fat = float(input(f'Faturamento do mês {mes + 1}: R$ '))\n",
    "    faturamentos.append(fat)\n",
    "    mes += 1\n",
    "\n",
    "tot_fat = sum(faturamentos)\n",
    "med_fat = tot_fat / len(faturamentos)\n",
    "\n",
    "print(f'Faturamento total: R$ {tot_fat:>10.2f}')\n",
    "print(f'Faturamento médio: R$ {med_fat:>10.2f}')\n"
   ],
   "outputs": [
    {
     "name": "stdout",
     "output_type": "stream",
     "text": [
      "Faturamento total: R$ 3302.00\n",
      "Faturamento médio: R$ 660.40\n"
     ]
    }
   ],
   "execution_count": 31
  },
  {
   "cell_type": "markdown",
   "id": "703f3c4d",
   "metadata": {
    "id": "703f3c4d"
   },
   "source": [
    "#### 8. Faça um programa que consiga categorizar a idade das equipes de uma empresa. Faça um programa que peça para n pessoas a sua idade, ao final o programa devera verificar se a média de idade da equipe varia entre 0 e 25 (jovem) ,26 e 60 (sênior) e maior que 60 (idosa); e então, dizer se a equipe é jovem, sênior ou idosa, conforme a média calculada."
   ]
  },
  {
   "cell_type": "code",
   "id": "b56a85de",
   "metadata": {
    "id": "b56a85de",
    "ExecuteTime": {
     "end_time": "2025-06-26T05:29:53.153727Z",
     "start_time": "2025-06-26T05:29:45.792267Z"
    }
   },
   "source": [
    "idades = []\n",
    "\n",
    "while True:\n",
    "    idade = input('Idade: ')\n",
    "    if not idade:\n",
    "        break\n",
    "    idades.append(int(idade))\n",
    "\n",
    "med_idades = sum(idades) / len(idades)\n",
    "if 0 < med_idades <= 25:\n",
    "    print('Equipe Jovem')\n",
    "elif 25 < med_idades <= 60:\n",
    "    print('Equipe Sênior')\n",
    "else:\n",
    "    print('Equipe Idosa')\n"
   ],
   "outputs": [
    {
     "name": "stdout",
     "output_type": "stream",
     "text": [
      "Equipe Idosa\n"
     ]
    }
   ],
   "execution_count": 35
  },
  {
   "cell_type": "markdown",
   "id": "aad21b98",
   "metadata": {
    "id": "aad21b98"
   },
   "source": [
    "#### 9. Numa eleição existem três candidatos. Faça um programa que peça o número total de eleitores. Peça para cada eleitor votar e ao final mostrar o número de votos de cada candidato."
   ]
  },
  {
   "cell_type": "code",
   "id": "84aa7a93",
   "metadata": {
    "id": "84aa7a93",
    "ExecuteTime": {
     "end_time": "2025-06-26T05:49:45.536608Z",
     "start_time": "2025-06-26T05:49:32.117618Z"
    }
   },
   "source": [
    "votos = [0, 0, 0]\n",
    "\n",
    "print('[ 1 ] Candidato 1\\n[ 2 ] Candidato 2\\n[ 3 ] Candidato 3')\n",
    "print('--' * 25, '\\n[ 0 ] Encerrar\\n')\n",
    "while True:\n",
    "    try:\n",
    "        vot = int(input('Voto: '))\n",
    "    except ValueError:\n",
    "        print('Digite um número válido.')\n",
    "        continue\n",
    "\n",
    "    match vot:\n",
    "        case 1:\n",
    "            votos[0] += 1\n",
    "        case 2:\n",
    "            votos[1] += 1\n",
    "        case 3:\n",
    "            votos[2] += 1\n",
    "        case 0:\n",
    "            break\n",
    "        case _:\n",
    "            print('Opção inválida. Tente novamente.')\n",
    "for i, voto in enumerate(votos):\n",
    "    print(f'Candidato {i + 1}: {voto} voto(s)')\n"
   ],
   "outputs": [
    {
     "name": "stdout",
     "output_type": "stream",
     "text": [
      "[ 1 ] Candidato 1\n",
      "[ 2 ] Candidato 2\n",
      "[ 3 ] Candidato 3\n",
      "-------------------------------------------------- \n",
      "[ 0 ] Encerrar\n",
      "\n",
      "Candidato 1: 2 voto(s)\n",
      "Candidato 2: 4 voto(s)\n",
      "Candidato 3: 1 voto(s)\n"
     ]
    }
   ],
   "execution_count": 41
  },
  {
   "cell_type": "markdown",
   "id": "6e306453",
   "metadata": {
    "id": "6e306453"
   },
   "source": [
    "#### 10. Faça um programa que calcule o valor total investido por um colecionador em sua coleção de CDs e o valor médio gasto em cada um deles. O usuário deverá informar a quantidade de CDs e o valor para em cada um."
   ]
  },
  {
   "cell_type": "code",
   "id": "6b7fa4a2",
   "metadata": {
    "id": "6b7fa4a2",
    "ExecuteTime": {
     "end_time": "2025-06-26T15:51:41.321517Z",
     "start_time": "2025-06-26T15:51:23.510726Z"
    }
   },
   "source": [
    "cds = []\n",
    "med_val = tot_val = 0\n",
    "\n",
    "while True:\n",
    "    try:\n",
    "        qtd_cds = int(input('Quantidade: '))\n",
    "        preco_cds = float(input('Preço: R$ '))\n",
    "    except ValueError:\n",
    "        print('ERRO')\n",
    "        break\n",
    "    cds.append([qtd_cds, preco_cds])\n",
    "\n",
    "for cd in cds:\n",
    "    tot_val += (cd[0] * cd[1])\n",
    "\n",
    "med_val = tot_val / len(cds)\n",
    "print(f'Valor total investido: R$ {tot_val:.2f}')\n",
    "print(f'Valor médio: R$ {med_val:.2f}')\n",
    "\n"
   ],
   "outputs": [
    {
     "name": "stdout",
     "output_type": "stream",
     "text": [
      "ERRO\n",
      "Valor total investido: R$ 76.00\n",
      "Valor médio: R$ 25.33\n"
     ]
    }
   ],
   "execution_count": 2
  },
  {
   "cell_type": "markdown",
   "id": "f19c8d86",
   "metadata": {
    "id": "f19c8d86"
   },
   "source": [
    "#### 11. O Sr. Manoel Joaquim possui uma grande loja de artigos de R\\\\$ 1,99, com cerca de 10 caixas. Para agilizar o cálculo de quanto cada cliente deve pagar ele desenvolveu um tabela que contém o número de itens que o cliente comprou e ao lado o valor da conta. Desta forma a atendente do caixa precisa apenas contar quantos itens o cliente está levando e olhar na tabela de preços. Você foi contratado para desenvolver o programa que monta esta tabela de preços, que conterá os preços de 1 até 50 produtos, conforme o exemplo abaixo:\n",
    "<pre>\n",
    "Lojas Quase Dois - Tabela de preços\n",
    "1 - R$ 1.99\n",
    "2 - R$ 3.98\n",
    "...\n",
    "50 - R$ 99.50\n",
    "</pre>"
   ]
  },
  {
   "cell_type": "code",
   "id": "4fc4d54d",
   "metadata": {
    "id": "4fc4d54d",
    "ExecuteTime": {
     "end_time": "2025-06-26T15:58:07.915940Z",
     "start_time": "2025-06-26T15:58:07.912029Z"
    }
   },
   "source": [
    "for i in range(50):\n",
    "    print(f'{i + 1} - R$ {(1.99 * (i + 1)):>5.2f}')\n"
   ],
   "outputs": [
    {
     "name": "stdout",
     "output_type": "stream",
     "text": [
      "1 - R$  1.99\n",
      "2 - R$  3.98\n",
      "3 - R$  5.97\n",
      "4 - R$  7.96\n",
      "5 - R$  9.95\n",
      "6 - R$ 11.94\n",
      "7 - R$ 13.93\n",
      "8 - R$ 15.92\n",
      "9 - R$ 17.91\n",
      "10 - R$ 19.90\n",
      "11 - R$ 21.89\n",
      "12 - R$ 23.88\n",
      "13 - R$ 25.87\n",
      "14 - R$ 27.86\n",
      "15 - R$ 29.85\n",
      "16 - R$ 31.84\n",
      "17 - R$ 33.83\n",
      "18 - R$ 35.82\n",
      "19 - R$ 37.81\n",
      "20 - R$ 39.80\n",
      "21 - R$ 41.79\n",
      "22 - R$ 43.78\n",
      "23 - R$ 45.77\n",
      "24 - R$ 47.76\n",
      "25 - R$ 49.75\n",
      "26 - R$ 51.74\n",
      "27 - R$ 53.73\n",
      "28 - R$ 55.72\n",
      "29 - R$ 57.71\n",
      "30 - R$ 59.70\n",
      "31 - R$ 61.69\n",
      "32 - R$ 63.68\n",
      "33 - R$ 65.67\n",
      "34 - R$ 67.66\n",
      "35 - R$ 69.65\n",
      "36 - R$ 71.64\n",
      "37 - R$ 73.63\n",
      "38 - R$ 75.62\n",
      "39 - R$ 77.61\n",
      "40 - R$ 79.60\n",
      "41 - R$ 81.59\n",
      "42 - R$ 83.58\n",
      "43 - R$ 85.57\n",
      "44 - R$ 87.56\n",
      "45 - R$ 89.55\n",
      "46 - R$ 91.54\n",
      "47 - R$ 93.53\n",
      "48 - R$ 95.52\n",
      "49 - R$ 97.51\n",
      "50 - R$ 99.50\n"
     ]
    }
   ],
   "execution_count": 3
  },
  {
   "cell_type": "markdown",
   "id": "6cd19c52",
   "metadata": {
    "id": "6cd19c52"
   },
   "source": [
    "#### 12. Um funcionário de uma empresa recebe aumento salarial anualmente: Sabe-se que:\n",
    "<pre>\n",
    "Esse funcionário foi contratado em 1995, com salário inicial de R$ 1.000,00;\n",
    "Em 1996 recebeu aumento de 1,5% sobre seu salário inicial;\n",
    "A partir de 1997 (inclusive), os aumentos salariais sempre correspondem ao dobro do percentual do ano anterior. Faça um programa que determine o salário desse funcionário em 2003. \n",
    "</pre>"
   ]
  },
  {
   "cell_type": "code",
   "id": "98a4811b",
   "metadata": {
    "id": "98a4811b",
    "ExecuteTime": {
     "end_time": "2025-06-26T16:08:55.400623Z",
     "start_time": "2025-06-26T16:08:55.396415Z"
    }
   },
   "source": [
    "sal = 1000\n",
    "ano_inic = 1995\n",
    "ano_final = 2003\n",
    "aum = 0.015\n",
    "\n",
    "while ano_inic < ano_final:\n",
    "    ano_inic += 1\n",
    "    if ano_inic == 1996:\n",
    "        sal *= aum + 1\n",
    "        continue\n",
    "    sal *= (aum * 2) + 1\n",
    "\n",
    "print(f'Em {ano_final} o salário será de R$ {sal:.2f}')\n"
   ],
   "outputs": [
    {
     "name": "stdout",
     "output_type": "stream",
     "text": [
      "Em 2003 o salário será de R$ 1248.32\n"
     ]
    }
   ],
   "execution_count": 4
  },
  {
   "cell_type": "markdown",
   "id": "227928d1",
   "metadata": {
    "id": "227928d1"
   },
   "source": [
    "#### 13. O cardápio de uma lanchonete é o seguinte:\n",
    "<pre>\n",
    "Especificação   Código  Preço\n",
    "Cachorro Quente 100     R$ 1,20\n",
    "Bauru Simples   101     R$ 1,30\n",
    "Bauru com ovo   102     R$ 1,50\n",
    "Hambúrguer      103     R$ 1,20\n",
    "Cheeseburguer   104     R$ 1,30\n",
    "Refrigerante    105     R$ 1,00\n",
    "Faça um programa que leia o código dos itens pedidos e as quantidades desejadas. Calcule e mostre o valor a ser pago por item (preço * quantidade) e o total geral do pedido. Considere que o cliente deve informar quando o pedido deve ser encerrado.\n",
    "</pre>"
   ]
  },
  {
   "cell_type": "code",
   "id": "8a784b86",
   "metadata": {
    "id": "8a784b86",
    "ExecuteTime": {
     "end_time": "2025-06-26T17:50:07.844149Z",
     "start_time": "2025-06-26T17:49:50.439373Z"
    }
   },
   "source": [
    "menu = [['cachorro quente', 100, 1.20],\n",
    "        ['bauru simples', 101, 1.30],\n",
    "        ['bauru com ovo', 102, 1.50],\n",
    "        ['hambúrguer', 103, 1.20],\n",
    "        ['cheeseburguer', 104, 1.30],\n",
    "        ['refrigerante', 105, 1.00]\n",
    "        ]\n",
    "val_item = [0] * len(menu)\n",
    "tot_val = 0\n",
    "\n",
    "while True:\n",
    "    try:\n",
    "        cod = int(input('Código (0 para sair): '))\n",
    "        if cod == 0:\n",
    "            break\n",
    "        qtd = int(input('Quantidade: '))\n",
    "\n",
    "        encontrado = False\n",
    "        for i in range(len(menu)):\n",
    "            if cod == menu[i][1]:\n",
    "                val = menu[i][2] * qtd\n",
    "                val_item[i] += val\n",
    "                tot_val += val\n",
    "                encontrado = True\n",
    "                break\n",
    "\n",
    "        if not encontrado:\n",
    "            print('Código inválido')\n",
    "\n",
    "    except ValueError:\n",
    "        print('ERRO. Entrada inválida')\n",
    "        break\n",
    "\n",
    "for i in range(len(menu)):\n",
    "    if val_item[i] > 0:\n",
    "        print(f'{menu[i][0]}: R$ {val_item[i]:.2f}')\n",
    "\n",
    "print(f'Valor total: R$ {tot_val:.2f}')\n",
    "\n",
    "\n"
   ],
   "outputs": [
    {
     "name": "stdout",
     "output_type": "stream",
     "text": [
      "cachorro quente: R$ 3.60\n",
      "hambúrguer: R$ 2.40\n",
      "refrigerante: R$ 4.00\n",
      "Valor total: R$ 10.00\n"
     ]
    }
   ],
   "execution_count": 13
  },
  {
   "cell_type": "markdown",
   "id": "9877b8ba",
   "metadata": {
    "id": "9877b8ba"
   },
   "source": [
    "#### 14. Uma grande emissora de televisão quer fazer uma enquete entre os seus telespectadores para saber qual o melhor jogador após cada jogo. Para isto, faz-se necessário o desenvolvimento de um programa, que será utilizado pelas telefonistas, para a computação dos votos. Sua equipe foi contratada para desenvolver este programa, utilizando a linguagem de programação Python. Para computar cada voto, a telefonista digitará um número, entre 1 e 23, correspondente ao número da camisa do jogador. Um número de jogador igual zero, indica que a votação foi encerrada. Se um número inválido for digitado, o programa deve ignorá-lo, mostrando uma breve mensagem de aviso, e voltando a pedir outro número. Após o final da votação, o programa deverá exibir:\n",
    "<pre>a. O total de votos computados;\n",
    "b. Os números e respectivos votos de todos os jogadores que receberam votos;\n",
    "c. O percentual de votos de cada um destes jogadores;\n",
    "d. O número do jogador escolhido como o melhor jogador da partida, juntamente com o número de votos e o percentual de votos dados a ele.\n",
    "        Observe que os votos inválidos e o zero final não devem ser computados como votos. O resultado aparece ordenado pelo número do jogador. O programa deve fazer uso de arrays. O programa deverá executar o cálculo do percentual de cada jogador através de uma função. Esta função receberá dois parâmetros: o número de votos de um jogador e o total de votos. A função calculará o percentual e retornará o valor calculado. Abaixo segue uma tela de exemplo. O disposição das informações deve ser o mais próxima possível ao exemplo. Os dados são fictícios e podem mudar a cada execução do programa. Ao final, o programa deve ainda gravar os dados referentes ao resultado da votação em um arquivo texto no disco, obedecendo a mesma disposição apresentada na tela.</pre>\n",
    "```\n",
    "Enquete: Quem foi o melhor jogador?\n",
    "\n",
    "Número do jogador (0=fim): 9\n",
    "Número do jogador (0=fim): 10\n",
    "Número do jogador (0=fim): 9\n",
    "Número do jogador (0=fim): 10\n",
    "Número do jogador (0=fim): 11\n",
    "Número do jogador (0=fim): 10\n",
    "Número do jogador (0=fim): 50\n",
    "Informe um valor entre 1 e 23 ou 0 para sair!\n",
    "Número do jogador (0=fim): 9\n",
    "Número do jogador (0=fim): 9\n",
    "Número do jogador (0=fim): 0\n",
    "\n",
    "Resultado da votação:\n",
    "\n",
    "Foram computados 8 votos.\n",
    "\n",
    "Jogador Votos           %\n",
    "9               4               50,0%\n",
    "10              3               37,5%\n",
    "11              1               12,5%\n",
    "``` "
   ]
  },
  {
   "cell_type": "code",
   "id": "79b82364",
   "metadata": {
    "id": "79b82364",
    "ExecuteTime": {
     "end_time": "2025-06-27T03:54:11.035540Z",
     "start_time": "2025-06-27T03:53:56.099624Z"
    }
   },
   "source": [
    "votos = []\n",
    "cont = 0\n",
    "\n",
    "print('Enquete: Quem foi o melhor jogador?\\n')\n",
    "\n",
    "while True:\n",
    "    try:\n",
    "        num = int(input('Número do jogador (0 = fim): '))\n",
    "        \n",
    "        if 1 <= num <= 23:\n",
    "            for i in range(len(votos)):\n",
    "                if votos[i][0] == num:\n",
    "                    votos[i][1] += 1 \n",
    "                    break\n",
    "            else:\n",
    "                votos.append([num, 1])\n",
    "            cont += 1\n",
    "        elif num == 0:\n",
    "            break\n",
    "        else:\n",
    "            print('Informe um valor entre 1 e 23 ou 0 para sair!')\n",
    "            \n",
    "    except ValueError:\n",
    "        print('ERRO. Entrada inválida.')\n",
    "\n",
    "\n",
    "print('Resuldado da votação:\\n')\n",
    "print(f'Foram computados {cont} votos.\\n')\n",
    "print('{:<15}{:<10}{}'.format('Jogador', 'Votos', '%'))\n",
    "\n",
    "for item in votos:\n",
    "    porc = (item[1] / cont) * 100\n",
    "    print(f' {item[0]:<15} {item[1]:<10}{porc:>5.1f}%')\n"
   ],
   "outputs": [
    {
     "name": "stdout",
     "output_type": "stream",
     "text": [
      "Enquete: Quem foi o melhor jogador?\n",
      "\n",
      "Resuldado da votação:\n",
      "\n",
      "Foram computados 8 votos.\n",
      "\n",
      "Jogador        Votos     %\n",
      "11             1          12.5%\n",
      "10             3          37.5%\n",
      "9              4          50.0%\n"
     ]
    }
   ],
   "execution_count": 4
  }
 ],
 "metadata": {
  "kernelspec": {
   "display_name": "Python 3 (ipykernel)",
   "language": "python",
   "name": "python3"
  },
  "language_info": {
   "codemirror_mode": {
    "name": "ipython",
    "version": 3
   },
   "file_extension": ".py",
   "mimetype": "text/x-python",
   "name": "python",
   "nbconvert_exporter": "python",
   "pygments_lexer": "ipython3",
   "version": "3.9.7"
  },
  "colab": {
   "provenance": [],
   "collapsed_sections": []
  }
 },
 "nbformat": 4,
 "nbformat_minor": 5
}
