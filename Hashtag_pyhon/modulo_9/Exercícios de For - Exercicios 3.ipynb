{
 "cells": [
  {
   "cell_type": "markdown",
   "metadata": {},
   "source": [
    "# Exercícios\n",
    "\n",
    "## 1. Calculando % de uma lista\n",
    "\n",
    "Faremos algo parecido com \"filtrar\" uma lista. Mais pra frente no curso aprenderemos outras formas de fazer isso, mas com o nosso conhecimentoa atual já conseguimos resolver o desafio.\n",
    "\n",
    "Digamos que a gente tenha uma lista de vendedores e ao invés de saber todos os vendedores que bateram a meta, eu quero conseguir calcular o % de vendedores que bateram a meta. Ou seja, se temos 10 vendedores e 3 bateram a meta, temos 30% dos vendedores que bateram a meta."
   ]
  },
  {
   "cell_type": "code",
   "execution_count": null,
   "metadata": {},
   "outputs": [],
   "source": [
    "meta = 10000\n",
    "vendas = [\n",
    "    ['João', 15000],\n",
    "    ['Julia', 27000],\n",
    "    ['Marcus', 9900],\n",
    "    ['Maria', 3750],\n",
    "    ['Ana', 10300],\n",
    "    ['Alon', 7870],\n",
    "]\n",
    "# diretamente\n",
    "tot = 0\n",
    "tot_met = 0\n",
    "for item in vendas:\n",
    "    if item[1] >= meta:\n",
    "        tot_met += item[1]\n",
    "    tot += item[1]\n",
    "porc = (tot_met / tot) * 100\n",
    "print(f'{porc:.2f}% dos vendedores bateram a meta.')\n",
    "\n",
    "# auxiliar\n",
    "vend_met = []\n",
    "tot = 0\n",
    "for item in vendas:\n",
    "    if item[1] >= meta:\n",
    "        vend_met.append(item[1])\n",
    "    tot += item[1]\n",
    "porc = (sum(vend_met) / tot) * 100\n",
    "print(f'{porc:.2f}% dos vendedores bateram a meta.')"
   ]
  },
  {
   "cell_type": "markdown",
   "metadata": {},
   "source": [
    "- Vamos resolver de 2 formas:\n",
    "    1. Criando uma lista auxiliar apenas com os vendedores que bateram a meta\n",
    "    2. Fazendo o cálculo diretamente na lista que já temos"
   ]
  },
  {
   "cell_type": "markdown",
   "metadata": {},
   "source": [
    "## Para treinar uma estrutura parecida, crie um código para responder: quem foi o vendedor que mais vendeu?"
   ]
  },
  {
   "cell_type": "code",
   "execution_count": null,
   "metadata": {},
   "outputs": [],
   "source": [
    "so_vend = []\n",
    "for item in vendas:\n",
    "    so_vend.append(item[1])\n",
    "i_mai = so_vend.index(max(so_vend))\n",
    "print(f'{vendas[i_mai][0]} foi o vendedor que mais vendeu {max(so_vend)}')"
   ]
  }
 ],
 "metadata": {
  "kernelspec": {
   "display_name": "Python 3",
   "language": "python",
   "name": "python3"
  },
  "language_info": {
   "codemirror_mode": {
    "name": "ipython",
    "version": 3
   },
   "file_extension": ".py",
   "mimetype": "text/x-python",
   "name": "python",
   "nbconvert_exporter": "python",
   "pygments_lexer": "ipython3",
   "version": "3.8.3"
  }
 },
 "nbformat": 4,
 "nbformat_minor": 4
}
