{
 "cells": [
  {
   "cell_type": "markdown",
   "metadata": {},
   "source": [
    "### Exercício 1\n",
    "Crie um sistema de consulta de preços\n",
    "Seu sistema deve:\n",
    "- Pedir para o usuário o nome de um produto\n",
    "- Caso o produto exista na lista de produtos, o programa deve retornar o preço do produto como resposta\n",
    "       - Ex: O produto celular custa R$1500\n",
    "- Caso o produto não exista na lista de produtos, o programa deve printar uma mensagem para o usuário tentar novamente\n"
   ]
  },
  {
   "cell_type": "code",
   "metadata": {
    "ExecuteTime": {
     "end_time": "2025-06-27T18:15:05.591448Z",
     "start_time": "2025-06-27T18:14:58.037800Z"
    }
   },
   "source": [
    "precos = {\"celular\": 1500, \"camera\": 1000, \"fone de ouvido\": 800, \"monitor\": 2000}\n",
    "\n",
    "try:\n",
    "    prod = str(input('Nome do produto: ')).strip().casefold()\n",
    "    if prod in precos:\n",
    "        print(f'O produto {prod} custa R$ {precos[prod]:.2f}')\n",
    "    else:\n",
    "        print('Esse produto não está disponível. Tente novamente.')\n",
    "except ValueError:\n",
    "    print('ERRO. Opção inválida.')\n",
    "\n",
    "    \n"
   ],
   "outputs": [
    {
     "name": "stdout",
     "output_type": "stream",
     "text": [
      "O produto celular custa R$ 1500.00\n"
     ]
    }
   ],
   "execution_count": 2
  },
  {
   "cell_type": "markdown",
   "metadata": {},
   "source": [
    "\n",
    "### Exercício 2\n",
    "Agora edite o programa anterior para fazer com que, caso não exista o produto, o programa pergunte se o usuário quer cadastrar o produto\n",
    "<br>Se ele responder sim, o programa deve pedir o nome do produto e o preco do produto e cadastrar no dicionário de preços\n",
    "<br>Em seguida do cadastro bem sucedido, o programa deve printar o dicionário de precos atualizado\n"
   ]
  },
  {
   "cell_type": "code",
   "metadata": {
    "ExecuteTime": {
     "end_time": "2025-06-27T21:16:32.897728Z",
     "start_time": "2025-06-27T21:16:26.850906Z"
    }
   },
   "source": [
    "precos = {\"celular\": 1500, \"camera\": 1000, \"fone de ouvido\": 800, \"monitor\": 2000}\n",
    "\n",
    "try:\n",
    "    prod = str(input('Nome do produto: ')).strip().casefold()\n",
    "    if prod in precos:\n",
    "        print(f'O produto {prod} custa R$ {precos[prod]:.2f}')\n",
    "    else:\n",
    "        print('Esse produto não está disponível.')\n",
    "        resp = str(input(f'Quer cadastrar o produto {prod} [s/n]? ')).strip().casefold()\n",
    "        if resp[0] == 's':\n",
    "            nome = str(input('Nome do produto para cadastrar: ')).strip().casefold()\n",
    "            preco = int(input('Preço do produto: R$ '))\n",
    "            precos[nome] = preco\n",
    "            print('\\nDICIONÁRIO ATUALIZADO')\n",
    "            for produto, valor in precos.items():\n",
    "                print(f' {produto:<20}R$ {valor:>5}')\n",
    "except ValueError:\n",
    "    print('ERRO. Opção inválida.')\n",
    "    "
   ],
   "outputs": [
    {
     "name": "stdout",
     "output_type": "stream",
     "text": [
      "Esse produto não está disponível.\n",
      "\n",
      "DICIONÁRIO ATUALIZADO\n",
      " celular             R$  1500\n",
      " camera              R$  1000\n",
      " fone de ouvido      R$   800\n",
      " monitor             R$  2000\n",
      " calculadora         R$   650\n"
     ]
    }
   ],
   "execution_count": 9
  },
  {
   "cell_type": "markdown",
   "metadata": {},
   "source": [
    "### Exercício 3\n",
    "Dada a lista de preços de produtos, uma loja resolveu fazer um reajuste nos preços dos produtos. \n",
    "calcule o novo valor dos produtos com base nas seguintes regras:\n",
    "- Preços até 1.000 vão ter um reajuste de 10% (ou seja, o novo preço será 110% do preço atual)\n",
    "- Preços até maiores que 1.000 até 2.000 vão ter reajuste de 15%\n",
    "- Preços acima de 2.000 vão ter reajuste de 20%"
   ]
  },
  {
   "cell_type": "code",
   "metadata": {
    "ExecuteTime": {
     "end_time": "2025-06-27T21:23:40.639727Z",
     "start_time": "2025-06-27T21:23:40.634983Z"
    }
   },
   "source": [
    "precos = {\"celular\": 1500, \"camera\": 1000, \"fone de ouvido\": 800, \"monitor\": 3000}\n",
    "\n",
    "print('{:<20}{}'.format('Produto', 'Preço'))\n",
    "for produto, preco in precos.items():\n",
    "    if preco <= 1000:\n",
    "        preco *= 1.10\n",
    "    elif preco >= 2000:\n",
    "        preco *= 1.15\n",
    "    else:\n",
    "        preco *= 1.20\n",
    "    \n",
    "    print(f' {produto:<20}R$ {preco:>8.2f}')\n"
   ],
   "outputs": [
    {
     "name": "stdout",
     "output_type": "stream",
     "text": [
      "Produto             Preço\n",
      " celular             R$  1800.00\n",
      " camera              R$  1100.00\n",
      " fone de ouvido      R$   880.00\n",
      " monitor             R$  3450.00\n"
     ]
    }
   ],
   "execution_count": 19
  },
  {
   "cell_type": "markdown",
   "metadata": {},
   "source": [
    "### Exercício 4\n",
    " - Edite o programa antigo para ter os 2 dicionários, o de preços originais e o de novos preços\n",
    " - Em seguida calcule o valor total de reajuste em R$ que teve entre a lista de produtos original e a lista final\n"
   ]
  },
  {
   "cell_type": "code",
   "metadata": {
    "ExecuteTime": {
     "end_time": "2025-06-27T21:28:38.818888Z",
     "start_time": "2025-06-27T21:28:38.814382Z"
    }
   },
   "source": [
    "precos = {\"celular\": 1500, \"camera\": 1000, \"fone de ouvido\": 800, \"monitor\": 3000}\n",
    "precos_finais = precos.copy()\n",
    "\n",
    "print('{:<20}{}'.format('Produto', 'Valor de Reajuste (R$)'))\n",
    "for produto, preco in precos_finais.items():\n",
    "    if preco <= 1000:\n",
    "        reaj = preco * 0.10\n",
    "        preco *= 1.10\n",
    "    elif preco >= 2000:\n",
    "        reaj = preco * 0.10\n",
    "        preco *= 1.15\n",
    "    else:\n",
    "        reaj = preco * 0.10\n",
    "        preco *= 1.20\n",
    "    \n",
    "    print(f' {produto:<20}R$ {reaj:>8.2f}')\n",
    "    "
   ],
   "outputs": [
    {
     "name": "stdout",
     "output_type": "stream",
     "text": [
      "Produto             Valor de Reajuste (R$)\n",
      " celular             R$   150.00\n",
      " camera              R$   100.00\n",
      " fone de ouvido      R$    80.00\n",
      " monitor             R$   300.00\n"
     ]
    }
   ],
   "execution_count": 22
  },
  {
   "cell_type": "markdown",
   "metadata": {},
   "source": [
    "\n",
    "### Exercício 5\n",
    "- Uma empresa está analisando os resultados de vendas do 1º semestre de 2022 e 2023\n",
    "- Qual foi o % de crescimento de cada mês de 2023 em relação a 2022?\n",
    "- Depois de calcular isso, calcule o valor total de crescimento de 2023 em relação a 2022"
   ]
  },
  {
   "cell_type": "code",
   "metadata": {
    "ExecuteTime": {
     "end_time": "2025-06-28T04:14:59.719655Z",
     "start_time": "2025-06-28T04:14:59.715158Z"
    }
   },
   "source": [
    "vendas_22 = {\"jan\": 15000, \"fev\": 15500, \"mar\": 14000, \"abr\": 16600, \"mai\": 16300, \"jun\": 17000}\n",
    "vendas_23 = {\"jan\": 17000, \"fev\": 15000, \"mar\": 17500, \"abr\": 16900, \"mai\": 16000, \"jun\": 18500}\n",
    "crescimento = {}\n",
    "\n",
    "for mes, venda in vendas_23.items():\n",
    "    val_tot = venda - vendas_22[mes]\n",
    "    porc_cres = round((val_tot / vendas_22[mes]) * 100)\n",
    "    crescimento[mes] = {'porcentagem': porc_cres, 'valor': val_tot} \n",
    "    \n",
    "print('{:<7}{:<15}{:<15}{:<15}{}'.format('Mês', 'Vendas2022', 'Vendas2023', '%Crescimento', 'Valor Crescimento'))\n",
    "for mes, venda in vendas_23.items():\n",
    "    print(f' {mes:<7}{vendas_22[mes]:<15}{venda:<15}{crescimento[mes]['porcentagem']:<15}{crescimento[mes]['valor']}')\n"
   ],
   "outputs": [
    {
     "name": "stdout",
     "output_type": "stream",
     "text": [
      "Mês    Vendas2022     Vendas2023     %Crescimento   Valor Crescimento\n",
      " jan    15000          17000          13             2000\n",
      " fev    15500          15000          -3             -500\n",
      " mar    14000          17500          25             3500\n",
      " abr    16600          16900          2              300\n",
      " mai    16300          16000          -2             -300\n",
      " jun    17000          18500          9              1500\n"
     ]
    }
   ],
   "execution_count": 26
  },
  {
   "cell_type": "markdown",
   "metadata": {},
   "source": [
    "### Exercício 6 - Desafio\n",
    "- No final da reunião de apresentação dos números, seu chefe perguntou:\n",
    "- E se nos meses de 2023 que a gente vendeu menos do que 2022 a gente tivesse pelo menos empatado com 2022 (ou seja, se nos meses de 2023 em que as vendas foram menores do que o mesmo mês em 2022, o valor de vendas tivesse sido igual a 2022)\n",
    "- Qual teria sido o nosso crescimento de 2023 frente a 2022?"
   ]
  },
  {
   "cell_type": "code",
   "metadata": {
    "ExecuteTime": {
     "end_time": "2025-06-28T04:34:05.868645Z",
     "start_time": "2025-06-28T04:34:05.863974Z"
    }
   },
   "source": [
    "vendas_22 = {\"jan\": 15000, \"fev\": 15500, \"mar\": 14000, \"abr\": 16600, \"mai\": 16300, \"jun\": 17000}\n",
    "vendas_23 = {\"jan\": 17000, \"fev\": 15000, \"mar\": 17500, \"abr\": 16900, \"mai\": 16000, \"jun\": 18500}\n",
    "crescimento = {}\n",
    "\n",
    "for mes, venda in vendas_23.items():\n",
    "    if venda < vendas_22[mes]:\n",
    "        venda = vendas_22[mes]\n",
    "    val_tot = venda - vendas_22[mes]\n",
    "    porc_cres = round((val_tot / vendas_22[mes]) * 100)\n",
    "    crescimento[mes] = {'porcentagem': porc_cres, 'valor': val_tot}\n",
    "\n",
    "print('{:<7}{:<15}{:<15}{:<15}{}'.format('Mês', 'Vendas2022', 'Vendas2023', '%Crescimento', 'Valor Crescimento'))\n",
    "for mes, venda in vendas_23.items():\n",
    "    print(f' {mes:<7}{vendas_22[mes]:<15}{venda:<15}{crescimento[mes]['porcentagem']:<15}{crescimento[mes]['valor']}')\n"
   ],
   "outputs": [
    {
     "name": "stdout",
     "output_type": "stream",
     "text": [
      "Mês    Vendas2022     Vendas2023     %Crescimento   Valor Crescimento\n",
      " jan    15000          17000          13             2000\n",
      " fev    15500          15000          0              0\n",
      " mar    14000          17500          25             3500\n",
      " abr    16600          16900          2              300\n",
      " mai    16300          16000          0              0\n",
      " jun    17000          18500          9              1500\n"
     ]
    }
   ],
   "execution_count": 30
  }
 ],
 "metadata": {
  "language_info": {
   "name": "python"
  },
  "kernelspec": {
   "name": "python3",
   "language": "python",
   "display_name": "Python 3 (ipykernel)"
  }
 },
 "nbformat": 4,
 "nbformat_minor": 2
}
